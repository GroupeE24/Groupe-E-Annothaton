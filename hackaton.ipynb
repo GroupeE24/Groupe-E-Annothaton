{
 "cells": [
  {
   "cell_type": "markdown",
   "metadata": {},
   "source": [
    "## Vincenne jeunesse"
   ]
  },
  {
   "cell_type": "code",
   "execution_count": 3,
   "metadata": {},
   "outputs": [],
   "source": [
    "import requests as req\n",
    "url = \"https://www.vincennes.fr/foire-aux-questions/foire-aux-questions-petite-enfance-enfance-jeunesse\"\n",
    "response = req.get(url) #on recup une page\n"
   ]
  },
  {
   "cell_type": "code",
   "execution_count": 4,
   "metadata": {},
   "outputs": [],
   "source": [
    "import pandas as pd"
   ]
  },
  {
   "cell_type": "code",
   "execution_count": 5,
   "metadata": {},
   "outputs": [],
   "source": [
    "import re\n",
    "html = response.text"
   ]
  },
  {
   "cell_type": "code",
   "execution_count": 6,
   "metadata": {},
   "outputs": [
    {
     "data": {
      "text/plain": [
       "['Comment obtenir la liste des assistantes maternelles ?',\n",
       " 'Comment effectuer une demande de place en crèche ?',\n",
       " \"Quelles sont les dates des commissions d'attribution de place en crèche ?\",\n",
       " \"Déclaration de naissance ou reconnaissance d'un enfant\\xa0: quelle différence ?\",\n",
       " \"Un enfant qui déménage dans une nouvelle commune doit-il changer d'école ?\",\n",
       " 'Quand dois-je réserver la cantine/le goûter pour mon enfant ?',\n",
       " 'Comment me seront facturées les activités périscolaires de mes enfants ?',\n",
       " \"Qu'est ce que le conseil municipal des enfants ?\",\n",
       " 'Comment faire partie du conseil municipal des enfants ?',\n",
       " \"Qu'est que le Conseil des jeunes de Vincennes ?\",\n",
       " 'Comment faire partie du Conseil des jeunes de Vincennes ?',\n",
       " 'Où se tient le bureau du conseil des jeunes de Vincennes ?',\n",
       " 'Quels sont les établissements scolaires sur la ville de vincennes ?',\n",
       " 'Quand et comment dois je inscrire mes enfants au collège ?',\n",
       " 'Quand et comment dois je inscrire mes enfants au lycée ?',\n",
       " \"Les Aides à projets jeunes, qu'est-ce que c'est ?\",\n",
       " \"Où déposer une demande d'Aides à projets jeunes ?\",\n",
       " 'Je n’arrive plus à me connecter à mon espace personnel sur l’Espace Famille ? Comment faire ?',\n",
       " 'J’ai une question à propos de ma facture sur l’Espace Famille ?',\n",
       " 'Comment puis je régler ma facture ?',\n",
       " 'Où dois-je faire calculer mon QF?',\n",
       " 'Quand dois-je mettre à jour mon QF?']"
      ]
     },
     "execution_count": 6,
     "metadata": {},
     "output_type": "execute_result"
    }
   ],
   "source": [
    "quest_jeunesse = re.findall('<u><strong>(.*)</strong></u>',html)\n",
    "quest_jeunesse"
   ]
  },
  {
   "cell_type": "code",
   "execution_count": 7,
   "metadata": {},
   "outputs": [
    {
     "data": {
      "text/plain": [
       "22"
      ]
     },
     "execution_count": 7,
     "metadata": {},
     "output_type": "execute_result"
    }
   ],
   "source": [
    "len(quest_jeunesse)"
   ]
  },
  {
   "cell_type": "code",
   "execution_count": 8,
   "metadata": {},
   "outputs": [],
   "source": [
    "import bs4 \n",
    "from bs4 import BeautifulSoup\n",
    "soup = BeautifulSoup(html)"
   ]
  },
  {
   "cell_type": "code",
   "execution_count": 9,
   "metadata": {},
   "outputs": [
    {
     "data": {
      "text/plain": [
       "[<p><strong>Cadre</strong> de vie</p>,\n",
       " <p><strong>Famille </strong>enfance, jeunesse, seniors</p>,\n",
       " <p><strong>Économie</strong> et social</p>,\n",
       " <p><strong>Engagements</strong> démocratie et tissu associatif</p>,\n",
       " <p><strong>Rayonnement</strong> culturel et patrimonial</p>,\n",
       " <p><u><strong>Comment obtenir la liste des assistantes maternelles ?</strong></u></p>,\n",
       " <p>Vous pouvez obtenir la liste des assistantes maternelles au Relais Petite Enfance (RPE, 22 rue d'Estienne d'Orves). Vous pouvez également la demander par téléphone au 01 71 33 64 96 ou <a href=\"http://ram@vincennes.fr\">rpe@vincennes.fr</a>.</p>,\n",
       " <p><u><strong>Comment effectuer une demande de place en crèche ?</strong></u></p>,\n",
       " <p>Vous pouvez formuler votre demande de place en crèche auprès de l'accueil unique de l'Hôtel de ville ou en ligne via la rubrique <a data-entity-substitution=\"canonical\" data-entity-type=\"node\" data-entity-uuid=\"ad60fd18-f8dd-479f-a33a-728344fd22f6\" href=\"/creches-haltes-jeux-assistantes-maternelles-demande-de-place\">Vos démarches</a>.</p>,\n",
       " <p><u><strong>Quelles sont les dates des commissions d'attribution de place en crèche ?</strong></u></p>,\n",
       " <p>Les commissions d’attribution des places en crèche à temps complet ont lieu le 1er mercredi de chaque mois (sauf mois d’août et lors des vacances scolaires) à 14h, généralement salle des Académiciens de Cœur de ville (98, rue de Fontenay). Vous trouverez le calendrier des prochaines commissions <a href=\"https://www.vincennes.fr/actualites/commissions-dattribution-des-places-en-creche-le-calendrier-20202021\">sur cette page</a>.</p>,\n",
       " <p><u><strong>Déclaration de naissance ou reconnaissance d'un enfant : quelle différence ?</strong></u></p>,\n",
       " <p>La <a href=\"https://www.vincennes.fr/naissance-declaration-de\">déclaration de naissance</a> est obligatoire alors que <a href=\"https://www.vincennes.fr/reconnaissance-dun-enfant\">la reconnaissance d'un enfant</a> relève d'une démarche volontaire du père.</p>,\n",
       " <p><u><strong>Un enfant qui déménage dans une nouvelle commune doit-il changer d'école ?</strong></u></p>,\n",
       " <p>L'enfant inscrit à l'école maternelle ou à l'école élémentaire avant son déménagement peut terminer sa scolarité dans la même école. Par exemple, si votre enfant a commencé son année scolaire en petite section de maternelle et que vous déménagez en cours d'année, il pourra rester dans le même établissement jusqu'à la fin de la grande section de maternelle. Il devra changer d'école pour sa rentrée en CP (début de la scolarité primaire). Si votre enfant a commencé son année scolaire en CP et que vous déménagez en cours d'année, il pourra rester dans le même établissement jusqu'à la fin de son CM2.</p>,\n",
       " <p><u><strong>Quand dois-je réserver la cantine/le goûter pour mon enfant ?</strong></u></p>,\n",
       " <p><em>Pendant la période scolaire</em> : les représentants légaux doivent réserver un repas pour leur enfant pour chaque journée en période scolaire par le biais de <a href=\"https://www.espace-citoyens.net/vincennes/espace-citoyens/\">l'Espace Famille</a>. Les familles ont la possibilité de réserver sur la durée souhaitée : jour, semaine, mois, année. Toutefois, les réservations et modifications ou annulations doivent être effectuées au plus tard le jeudi à 23 h 59 pour la semaine suivante, pour les lundis, mardis, mercredis, jeudis, vendredis. Passé ce délai, les repas réservés, même non consommés, seront facturés.</p>,\n",
       " <p><em>Pendant les vacances</em> : il faudra réserver la journée en accueil de loisirs ainsi que le repas si votre enfant déjeune. Vous avez la possibilité de faire la réservation au plus tard, 15 jours avant la période concernée.</p>,\n",
       " <p><em>Cas particulier des P.A.I. avec panier repas fourni par les parents : </em>aucune réservation de repas n’est à effectuer.</p>,\n",
       " <p><u><strong>Comment me seront facturées les activités périscolaires de mes enfants ?</strong></u></p>,\n",
       " <p>Vous pouvez régler vos factures en ligne, via <a href=\"https://www.espace-citoyens.net/vincennes/espace-citoyens/\">l'Espace Famille</a>, ou opter pour le prélèvement automatique. Vous trouverez tous les renseignements sur la facturation des activités périscolaires dans <a data-entity-substitution=\"canonical\" data-entity-type=\"node\" data-entity-uuid=\"eefaf9cc-9d88-480c-b7eb-552ce78266b4\" href=\"/famille-enfance-jeunesse-seniors/enfance/accueils-de-loisirs\">le règlement des accueils de loisirs</a>.</p>,\n",
       " <p><u><strong>Qu'est ce que le conseil municipal des enfants ?</strong></u></p>,\n",
       " <p>Créé en 1999, <a href=\"https://www.vincennes.fr/engagements-democratie-et-tissu-associatif/participation-citoyenne/conseil-municipal-des-enfants\">le Conseil municipal des enfants</a> (CME) donne la possibilité aux jeunes Vincennois (élèves de CM2 et 6e ) de s’exprimer sur la vie de leur ville. Il permet également un apprentissage actif de la démocratie, et à la municipalité d’écouter les propositions des enfants et de les consulter. Renseignements supplémentaires au 01 43 98 68 79 ou par mail à <a href=\"mailto:espacecitoyen@vincennes.fr\">espacecitoyen@vincennes.fr</a>.</p>,\n",
       " <p><u><strong>Comment faire partie du conseil municipal des enfants ?</strong></u></p>,\n",
       " <p>Pour faire partie du CME, il faut être scolarisé(e) en CM2 ou en 6e à Vincennes et remplir une fiche de déclaration de candidature. Le jeune conseiller doit également faire campagne dans son école ou son collège, en définissant son programme et ses projets. <a href=\"https://www.vincennes.fr/engagements-democratie-et-tissu-associatif/participation-citoyenne/conseil-municipal-des-enfants\">Tous les renseignements se trouvent sur cette page.</a></p>,\n",
       " <p><u><strong>Qu'est que le Conseil des jeunes de Vincennes ?</strong></u></p>,\n",
       " <p>Le <a href=\"/engagements-democratie-et-tissu-associatif/participation-citoyenne/conseil-des-jeunes-de-vincennes\">Conseil des jeunes de Vincennes</a> (CJV) offre la possibilité aux jeunes de construire des projets et d’être sollicités par les élus afin d’émettre un avis consultatif sur les domaines les concernant. Il favorise une sensibilisation des jeunes aux questions de société afin qu’ils s’engagent de manière constructive dans la vie de la cité. Il leur permet de réaliser des projets en lien avec les dispositifs municipaux, départementaux et régionaux existants.</p>,\n",
       " <p><u><strong>Comment faire partie du Conseil des jeunes de Vincennes ?</strong></u></p>,\n",
       " <p>Chaque année, une campagne de recrutement a lieu, habituellement au cours de l'été, pour rejoindre le nouveau Conseil des jeunes pour l'année scolaire qui s'ouvre : <a href=\"https://www.vincennes.fr/engagements-democratie-et-tissu-associatif/participation-citoyenne/conseil-des-jeunes-de-vincennes\">une journée d'intégration prévue à cet effet est fixée courant septembre</a>. Mais vous pouvez bien sûr demander des renseignements au Carré au 01 71 33 64 40 ou par mail à <a href=\"mailto:lecarre@vincennes.fr\">lecarre@vincennes.fr</a> tout au long de l'année.</p>,\n",
       " <p><u><strong>Où se tient le bureau du conseil des jeunes de Vincennes ?</strong></u></p>,\n",
       " <p>Le Bureau du Conseil des jeunes de Vincennes se tient au Carré - Pôle citoyen, 1, rue de l’Égalité. Renseignements au 01 71 33 64 40 ou par mail à <a href=\"mailto:conseil-jeunes@vincennes.fr\">conseil-jeunes@vincennes.fr</a> ou <a href=\"mailto:lecarre@vincennes.fr\">lecarre@vincennes.fr</a>.</p>,\n",
       " <p><u><strong>Quels sont les établissements scolaires sur la ville de vincennes ?</strong></u></p>,\n",
       " <p>Vous trouverez ici <a href=\"https://www.vincennes.fr/famille-enfance-jeunesse-seniors/jeunesse/college-et-lycee\">la page concernant les collèges et lycées</a>, et là, <a href=\"https://www.vincennes.fr/famille-enfance-jeunesse-seniors/enfance/lecole/lecole-primaire\">la page concernant les écoles primaires de Vincennes</a>.</p>,\n",
       " <p><u><strong>Quand et comment dois je inscrire mes enfants au collège ?</strong></u></p>,\n",
       " <p>L’admission dans un collège vincennois est réservée aux élèves dont le représentant légal est domicilié à Vincennes. Sauf cas particulier (déménagement...), l’affectation dans le collège de secteur est automatique, selon la zone d’habitation de l’élève et le cursus choisi (<a href=\"http://www.dsden94.ac-creteil.fr/spip.php?article21\">lien pour la séctorisation</a>). Attention, l’affectation n’entraîne pas obligatoirement l’inscription effective, qui doit être confirmée par la famille auprès du collège.\n",
       " Dès le mois de mars (avant la décision de passage en 6e), le directeur de l’école élémentaire remet aux familles un dossier d’inscription au collège. Après avoir rempli ce dossier, vous devrez retourner à l’école dans les délais indiqués. Une fois la décision de passage prise, un avis d’affectation vous est adressé. Dès réception vous devrez confirmer l'inscription.</p>,\n",
       " <p><u><strong>Quand et comment dois je inscrire mes enfants au lycée ?</strong></u></p>,\n",
       " <p>L’affectation dans le lycée de secteur est automatique, selon la zone d’habitation de l’élève et le cursus choisi. Une dérogation peut néanmoins être demandée par l’élève au moment de sa demande d’orientation.</p>,\n",
       " <p><u><strong>Les Aides à projets jeunes, qu'est-ce que c'est ?</strong></u></p>,\n",
       " <p>Les Aides à projets jeunes sont des aides financières accordées par la Ville à des projets portés par des jeunes (seuls ou en groupe) domiciliés à Vincennes et âgés de 17 à 25 ans. Après examen de la Commission municipale Petite Enfance - Enfance Jeunesse en mai et en novembre, les projets sont présentés au Conseil municipal pour l’attribution d’une aide financière permettant de mener à terme les actions proposées.</p>,\n",
       " <p><u><strong>Où déposer une demande d'Aides à projets jeunes ?</strong></u></p>,\n",
       " <p>La présentation du projet peut être déposée au Carré (1, rue de l'Égalité, 94300 Vincennes), tout au long de l'année.</p>,\n",
       " <p><u><strong>Je n’arrive plus à me connecter à mon espace personnel sur l’Espace Famille ? Comment faire ?</strong></u></p>,\n",
       " <p>Vous avez la possibilité de faire mot de passe oublié. Un mail vous sera envoyé sur votre adresse mail. Si vous ne parvenez toujours pas à vous connecter vous pouvez sur le site de la ville <a href=\"https://demarches.vincennes.fr/jw/web/userview/compte_citoyen/usager/_/processus_ts?idFormulaire=simple_form_type1&amp;idGroup=DEJ_contrat&amp;libelle=Espace+famille%3A+Signaler+un+incident+de+connexion&amp;t_c=\">suivre ce lien</a>.</p>,\n",
       " <p><u><strong>J’ai une question à propos de ma facture sur l’Espace Famille ?</strong></u></p>,\n",
       " <p>Vous pouvez poser votre question <a href=\"https://compte-citoyen.vincennes.fr/demande-creer/?id_service=48c3f009-f78f-39e8-9967-5e20312cea15\">via ce formulaire</a>.</p>,\n",
       " <p><u><strong>Comment puis je régler ma facture ?</strong></u></p>,\n",
       " <p>Vous pouvez régler votre facture par prélèvement automatique, en ligne sur <a href=\"https://www.espace-citoyens.net/vincennes/espace-citoyens/\">l'Espace Famille</a> ou directement à l'accueil unique de l'Hôtel de ville. Vous trouverez tous les renseignements sur la facturation des activités périscolaires dans <a data-entity-substitution=\"canonical\" data-entity-type=\"node\" data-entity-uuid=\"eefaf9cc-9d88-480c-b7eb-552ce78266b4\" href=\"/famille-enfance-jeunesse-seniors/enfance/accueils-de-loisirs\">le règlement des accueils de loisirs</a>.</p>,\n",
       " <p><u><strong>Où dois-je faire calculer mon QF?</strong></u></p>,\n",
       " <p>Vous pouvez faire calculer votre Quotient familial en vous rendant à l'accueil unique de l'Hôtel de ville ou en ligne via la rubrique <a data-entity-substitution=\"canonical\" data-entity-type=\"node\" data-entity-uuid=\"faf9d2e9-5b52-4809-82b5-1a4a9394f761\" href=\"/quotient-familial-calcul-du\">Vos démarches</a>.</p>,\n",
       " <p><u><strong>Quand dois-je mettre à jour mon QF?</strong></u></p>,\n",
       " <p>Le Quotient familial doit être calculé avant le 31 décembre de l'année en cours, sinon le tarif maximum sera appliqué.</p>,\n",
       " <p>La période de déclaration des revenus a commencé le 11 avril et s'étendra jusqu'au 6 juin pour les résidents du Val-de-Marne. Pour (...)</p>,\n",
       " <p>Lundi 25 mars dernier, l’auditorium Jean-Pierre-Miquel accueillait, pour la 2e édition, le concert des lauréats de la fondation (...)</p>,\n",
       " <p>La santé n’est pas une compétence municipale et pourtant Vincennes, soucieuse du bien-être physique et mental de chacun de ses (...)</p>,\n",
       " <p>Hôtel de ville</p>,\n",
       " <p>BP 123</p>,\n",
       " <p>94304 Vincennes Cedex</p>,\n",
       " <p>Tél : 01 43 98 65 00</p>,\n",
       " <p><strong>Cadre</strong> de vie</p>,\n",
       " <p><strong>Famille </strong>enfance, jeunesse, seniors</p>,\n",
       " <p><strong>Économie</strong> et social</p>,\n",
       " <p><strong>Engagements</strong> démocratie et tissu associatif</p>,\n",
       " <p><strong>Rayonnement</strong> culturel et patrimonial</p>]"
      ]
     },
     "execution_count": 9,
     "metadata": {},
     "output_type": "execute_result"
    }
   ],
   "source": [
    "rep_j = soup.select('p')\n",
    "rep_j"
   ]
  },
  {
   "cell_type": "code",
   "execution_count": 10,
   "metadata": {},
   "outputs": [
    {
     "data": {
      "text/plain": [
       "[\"Vous pouvez obtenir la liste des assistantes maternelles au Relais Petite Enfance (RPE, 22 rue d'Estienne d'Orves). Vous pouvez également la demander par téléphone au 01 71 33 64 96 ourpe@vincennes.fr.\",\n",
       " \"Vous pouvez formuler votre demande de place en crèche auprès de l'accueil unique de l'Hôtel de ville ou en ligne via la rubriqueVos démarches.\",\n",
       " 'Les commissions d’attribution des places en crèche à temps complet ont lieu le 1er mercredi de chaque mois (sauf mois d’août et lors des vacances scolaires) à 14h, généralement salle des Académiciens de Cœur de ville (98, rue de Fontenay). Vous trouverez le calendrier des prochaines commissionssur cette page.',\n",
       " \"Ladéclaration de naissanceest obligatoire alors quela reconnaissance d'un enfantrelève d'une démarche volontaire du père.\",\n",
       " \"L'enfant inscrit à l'école maternelle ou à l'école élémentaire avant son déménagement peut terminer sa scolarité dans la même école. Par exemple, si votre enfant a commencé son année scolaire en petite section de maternelle et que vous déménagez en cours d'année, il pourra rester dans le même établissement jusqu'à la fin de la grande section de maternelle. Il devra changer d'école pour sa rentrée en CP (début de la scolarité primaire). Si votre enfant a commencé son année scolaire en CP et que vous déménagez en cours d'année, il pourra rester dans le même établissement jusqu'à la fin de son CM2.\",\n",
       " \"Pendant la période scolaire: les représentants légaux doivent réserver un repas pour leur enfant pour chaque journée en période scolaire par le biais del'Espace Famille. Les familles ont la possibilité de réserver sur la durée souhaitée : jour, semaine, mois, année. Toutefois, les réservations et modifications ou annulations doivent être effectuées au plus tard le jeudi à 23 h 59 pour la semaine suivante, pour les lundis, mardis, mercredis, jeudis, vendredis. Passé ce délai, les repas réservés, même non consommés, seront facturés.\",\n",
       " \"Vous pouvez régler vos factures en ligne, vial'Espace Famille, ou opter pour le prélèvement automatique. Vous trouverez tous les renseignements sur la facturation des activités périscolaires dansle règlement des accueils de loisirs.\",\n",
       " 'Créé en 1999,le Conseil municipal des enfants(CME) donne la possibilité aux jeunes Vincennois (élèves de CM2 et 6e ) de s’exprimer sur la vie de leur ville. Il permet également un apprentissage actif de la démocratie, et à la municipalité d’écouter les propositions des enfants et de les consulter. Renseignements supplémentaires au 01 43 98 68 79 ou par mail àespacecitoyen@vincennes.fr.',\n",
       " 'Pour faire partie du CME, il faut être scolarisé(e) en CM2 ou en 6e à Vincennes et remplir une fiche de déclaration de candidature. Le jeune conseiller doit également faire campagne dans son école ou son collège, en définissant son programme et ses projets.Tous les renseignements se trouvent sur cette page.',\n",
       " 'LeConseil des jeunes de Vincennes(CJV) offre la possibilité aux jeunes de construire des projets et d’être sollicités par les élus afin d’émettre un avis consultatif sur les domaines les concernant. Il favorise une sensibilisation des jeunes aux questions de société afin qu’ils s’engagent de manière constructive dans la vie de la cité. Il leur permet de réaliser des projets en lien avec les dispositifs municipaux, départementaux et régionaux existants.',\n",
       " \"Chaque année, une campagne de recrutement a lieu, habituellement au cours de l'été, pour rejoindre le nouveau Conseil des jeunes pour l'année scolaire qui s'ouvre :une journée d'intégration prévue à cet effet est fixée courant septembre. Mais vous pouvez bien sûr demander des renseignements au Carré au 01 71 33 64 40 ou par mail àlecarre@vincennes.frtout au long de l'année.\",\n",
       " 'Le Bureau du Conseil des jeunes de Vincennes se tient au Carré - Pôle citoyen, 1, rue de l’Égalité. Renseignements au 01 71 33 64 40 ou par mail àconseil-jeunes@vincennes.froulecarre@vincennes.fr.',\n",
       " 'Vous trouverez icila page concernant les collèges et lycées, et là,la page concernant les écoles primaires de Vincennes.',\n",
       " \"L’admission dans un collège vincennois est réservée aux élèves dont le représentant légal est domicilié à Vincennes. Sauf cas particulier (déménagement...), l’affectation dans le collège de secteur est automatique, selon la zone d’habitation de l’élève et le cursus choisi (lien pour la séctorisation). Attention, l’affectation n’entraîne pas obligatoirement l’inscription effective, qui doit être confirmée par la famille auprès du collège.\\nDès le mois de mars (avant la décision de passage en 6e), le directeur de l’école élémentaire remet aux familles un dossier d’inscription au collège. Après avoir rempli ce dossier, vous devrez retourner à l’école dans les délais indiqués. Une fois la décision de passage prise, un avis d’affectation vous est adressé. Dès réception vous devrez confirmer l'inscription.\",\n",
       " 'L’affectation dans le lycée de secteur est automatique, selon la zone d’habitation de l’élève et le cursus choisi. Une dérogation peut néanmoins être demandée par l’élève au moment de sa demande d’orientation.',\n",
       " 'Les Aides à projets jeunes sont des aides financières accordées par la Ville à des projets portés par des jeunes (seuls ou en groupe) domiciliés à Vincennes et âgés de 17 à 25 ans. Après examen de la Commission municipale Petite Enfance - Enfance Jeunesse en mai et en novembre, les projets sont présentés au Conseil municipal pour l’attribution d’une aide financière permettant de mener à terme les actions proposées.',\n",
       " \"La présentation du projet peut être déposée au Carré (1, rue de l'Égalité, 94300 Vincennes), tout au long de l'année.\",\n",
       " 'Vous avez la possibilité de faire mot de passe oublié. Un mail vous sera envoyé sur votre adresse mail. Si vous ne parvenez toujours pas à vous connecter vous pouvez sur le site de la villesuivre ce lien.',\n",
       " 'Vous pouvez poser votre questionvia ce formulaire.',\n",
       " \"Vous pouvez régler votre facture par prélèvement automatique, en ligne surl'Espace Familleou directement à l'accueil unique de l'Hôtel de ville. Vous trouverez tous les renseignements sur la facturation des activités périscolaires dansle règlement des accueils de loisirs.\",\n",
       " \"Vous pouvez faire calculer votre Quotient familial en vous rendant à l'accueil unique de l'Hôtel de ville ou en ligne via la rubriqueVos démarches.\",\n",
       " \"Le Quotient familial doit être calculé avant le 31 décembre de l'année en cours, sinon le tarif maximum sera appliqué.\"]"
      ]
     },
     "execution_count": 10,
     "metadata": {},
     "output_type": "execute_result"
    }
   ],
   "source": [
    "rep_jeunesse = []\n",
    "for p in rep_j:\n",
    "    if p.find('a') or (p.get_text(strip=True) and not p.find()):  # Vérifie s'il y a un <a> ou s'il n'y a que du texte\n",
    "        rep_jeunesse.append(p.get_text(strip=True))\n",
    "        \n",
    "rep_jeunesse = rep_jeunesse[:len(quest_jeunesse)]\n",
    "rep_jeunesse"
   ]
  },
  {
   "cell_type": "code",
   "execution_count": 11,
   "metadata": {},
   "outputs": [
    {
     "data": {
      "text/plain": [
       "22"
      ]
     },
     "execution_count": 11,
     "metadata": {},
     "output_type": "execute_result"
    }
   ],
   "source": [
    "len(rep_jeunesse)"
   ]
  },
  {
   "cell_type": "markdown",
   "metadata": {},
   "source": [
    "## Vincenne santé"
   ]
  },
  {
   "cell_type": "code",
   "execution_count": 13,
   "metadata": {},
   "outputs": [],
   "source": [
    "import requests as req\n",
    "url = \"https://www.vincennes.fr/foire-aux-questions/foire-aux-questions-sante-solidarite\"\n",
    "response = req.get(url) #on recup une page"
   ]
  },
  {
   "cell_type": "code",
   "execution_count": 14,
   "metadata": {},
   "outputs": [],
   "source": [
    "import re\n",
    "html = response.text"
   ]
  },
  {
   "cell_type": "code",
   "execution_count": 15,
   "metadata": {},
   "outputs": [],
   "source": [
    "import bs4 \n",
    "from bs4 import BeautifulSoup\n",
    "soup = BeautifulSoup(html)"
   ]
  },
  {
   "cell_type": "code",
   "execution_count": 16,
   "metadata": {},
   "outputs": [
    {
     "data": {
      "text/plain": [
       "[<u>Comment signaler une personne âgée isolée ?</u>,\n",
       " <u><strong>Comment se faire livrer des repas ?</strong></u>,\n",
       " <u><strong>Comment effectuer une demande de Pass navigo seniors ?</strong></u>,\n",
       " <u><strong>Comment effectuer une demande de logement social ? </strong></u>,\n",
       " <u><strong>Comment effectuer une demande d'aide pour le maintien à domicile (personne agée) ? </strong></u>]"
      ]
     },
     "execution_count": 16,
     "metadata": {},
     "output_type": "execute_result"
    }
   ],
   "source": [
    "quest_s = soup.select('u')\n",
    "quest_s"
   ]
  },
  {
   "cell_type": "code",
   "execution_count": 17,
   "metadata": {},
   "outputs": [
    {
     "data": {
      "text/plain": [
       "['Comment signaler une personne âgée isolée ?',\n",
       " 'Comment se faire livrer des repas ?',\n",
       " 'Comment effectuer une demande de Pass navigo seniors ?',\n",
       " 'Comment effectuer une demande de logement social ?',\n",
       " \"Comment effectuer une demande d'aide pour le maintien à domicile (personne agée) ?\"]"
      ]
     },
     "execution_count": 17,
     "metadata": {},
     "output_type": "execute_result"
    }
   ],
   "source": [
    "quest_santé = []\n",
    "\n",
    "# Itérer sur chaque objet paragraphe dans la liste\n",
    "for p in quest_s:\n",
    "    # Extraire le texte du paragraphe et le stocker dans la liste\n",
    "    Quest = p.text.strip()\n",
    "    quest_santé.append(Quest)\n",
    "quest_santé"
   ]
  },
  {
   "cell_type": "code",
   "execution_count": 18,
   "metadata": {},
   "outputs": [
    {
     "data": {
      "text/plain": [
       "[<p><strong>Cadre</strong> de vie</p>,\n",
       " <p><strong>Famille </strong>enfance, jeunesse, seniors</p>,\n",
       " <p><strong>Économie</strong> et social</p>,\n",
       " <p><strong>Engagements</strong> démocratie et tissu associatif</p>,\n",
       " <p><strong>Rayonnement</strong> culturel et patrimonial</p>,\n",
       " <p><strong><u>Comment signaler une personne âgée isolée ?</u></strong></p>,\n",
       " <p>Les personnes âgées isolées peuvent être inscrites sur le registre <a data-entity-substitution=\"canonical\" data-entity-type=\"node\" data-entity-uuid=\"6c66c3d0-ee2d-42eb-b5e4-ade2bfe67821\" href=\"/personnes-agees-adultes-handicapes-registre-des\">Personnes âgées isolées</a> auprès de l'Espace Régine-et-PIerre-Souweine.</p>,\n",
       " <p><u><strong>Comment se faire livrer des repas ?</strong></u></p>,\n",
       " <p><a href=\"https://www.vincennes.fr/famille-enfance-jeunesse-seniors/seniors/maintien-domicile/autres-services-domicile\">Des associations peuvent vous aider en dispensant des repas tout prêts</a>, livrés ou non à domicile.</p>,\n",
       " <p><u><strong>Comment effectuer une demande de Pass navigo seniors ?</strong></u></p>,\n",
       " <p>Les démarches pour obtenir un Pass navigo seniors sont expliquées <a href=\"https://www.vincennes.fr/pass-navigo-seniors-ancien-forfait-amethyste\">sur ce lien</a>.</p>,\n",
       " <p><u><strong>Comment effectuer une demande de logement social ? </strong></u></p>,\n",
       " <p>Il convient de déposer un dossier de demande de logement social en ligne sur le site <a href=\"https://www.demande-logement-social.gouv.fr/index\">www.demande-logement-social.gouv.fr</a>. Cette demande de logement est valable un an et doit être renouvelée chaque année. Plus d'informations : <a href=\"https://www.vincennes.fr/logement-demande-de\">cliquez ici</a></p>,\n",
       " <p><u><strong>Comment effectuer une demande d'aide pour le maintien à domicile (personne agée) ? </strong></u></p>,\n",
       " <p>Depuis plusieurs années, Vincennes s'est donné pour objectif de permettre aux personnes âgées de rester autonomes le plus longtemps possible en leur offrant un éventail de solutions adaptées à leurs situations médicale et sociale. La ville a également signé une charte avec plusieurs associations vincennoises d'aide au maintien à domicile.</p>,\n",
       " <p>Pour plus d'informations, différentes rubriques sont disponibles sur vincennes.fr :</p>,\n",
       " <p>La période de déclaration des revenus a commencé le 11 avril et s'étendra jusqu'au 6 juin pour les résidents du Val-de-Marne. Pour (...)</p>,\n",
       " <p>Lundi 25 mars dernier, l’auditorium Jean-Pierre-Miquel accueillait, pour la 2e édition, le concert des lauréats de la fondation (...)</p>,\n",
       " <p>La santé n’est pas une compétence municipale et pourtant Vincennes, soucieuse du bien-être physique et mental de chacun de ses (...)</p>,\n",
       " <p>Hôtel de ville</p>,\n",
       " <p>BP 123</p>,\n",
       " <p>94304 Vincennes Cedex</p>,\n",
       " <p>Tél : 01 43 98 65 00</p>,\n",
       " <p><strong>Cadre</strong> de vie</p>,\n",
       " <p><strong>Famille </strong>enfance, jeunesse, seniors</p>,\n",
       " <p><strong>Économie</strong> et social</p>,\n",
       " <p><strong>Engagements</strong> démocratie et tissu associatif</p>,\n",
       " <p><strong>Rayonnement</strong> culturel et patrimonial</p>]"
      ]
     },
     "execution_count": 18,
     "metadata": {},
     "output_type": "execute_result"
    }
   ],
   "source": [
    "rep_s = soup.select('p')\n",
    "rep_s"
   ]
  },
  {
   "cell_type": "code",
   "execution_count": 19,
   "metadata": {},
   "outputs": [
    {
     "data": {
      "text/plain": [
       "[\"Les personnes âgées isolées peuvent être inscrites sur le registrePersonnes âgées isoléesauprès de l'Espace Régine-et-PIerre-Souweine.\",\n",
       " 'Des associations peuvent vous aider en dispensant des repas tout prêts, livrés ou non à domicile.',\n",
       " 'Les démarches pour obtenir un Pass navigo seniors sont expliquéessur ce lien.',\n",
       " \"Il convient de déposer un dossier de demande de logement social en ligne sur le sitewww.demande-logement-social.gouv.fr. Cette demande de logement est valable un an et doit être renouvelée chaque année. Plus d'informations :cliquez ici\",\n",
       " \"Depuis plusieurs années, Vincennes s'est donné pour objectif de permettre aux personnes âgées de rester autonomes le plus longtemps possible en leur offrant un éventail de solutions adaptées à leurs situations médicale et sociale. La ville a également signé une charte avec plusieurs associations vincennoises d'aide au maintien à domicile.\"]"
      ]
     },
     "execution_count": 19,
     "metadata": {},
     "output_type": "execute_result"
    }
   ],
   "source": [
    "rep_santé = []\n",
    "for p in rep_s:\n",
    "    if p.find('a') or p.find('li') or p.find('ul') or (p.get_text(strip=True) and not p.find()):  # Vérifie s'il y a un <a> ou s'il n'y a que du texte\n",
    "        rep_santé.append(p.get_text(strip=True))\n",
    "        \n",
    "rep_santé = rep_santé[:len(quest_santé)]\n",
    "rep_santé"
   ]
  },
  {
   "cell_type": "markdown",
   "metadata": {},
   "source": [
    "# DROIT \n",
    "https://www.google.com/url?sa=t&source=web&rct=j&opi=89978449&url=https://www.coe.int/fr/web/compass/questions-and-answers-about-human-rights&ved=2ahUKEwjPxZfH79qFAxViUKQEHcdpCCYQFnoECBgQAQ&usg=AOvVaw39oV1zIBIpeGsaYWiSVF9m"
   ]
  },
  {
   "cell_type": "code",
   "execution_count": 20,
   "metadata": {},
   "outputs": [],
   "source": [
    "import requests as req\n",
    "url = \"https://www.coe.int/fr/web/compass/questions-and-answers-about-human-rights\"\n",
    "response = req.get(url) #on recup une page"
   ]
  },
  {
   "cell_type": "code",
   "execution_count": 21,
   "metadata": {},
   "outputs": [],
   "source": [
    "import re\n",
    "html = response.text\n",
    "soup = BeautifulSoup(html)"
   ]
  },
  {
   "cell_type": "code",
   "execution_count": 22,
   "metadata": {},
   "outputs": [
    {
     "data": {
      "text/plain": [
       "([' Les droits de l’homme, qu’est-ce que c’est ?',\n",
       "  'D’où viennent ces droits ?',\n",
       "  'Pourquoi tout le monde “devrait-il” les respecter ?',\n",
       "  '&nbsp;Qui possède des droits de l’homme ?',\n",
       "  'Même les criminels et les chefs d’Etat ?',\n",
       "  'Pourquoi certains groupes ont-ils besoin de droits de l’homme spécifiques ?',\n",
       "  'Pourquoi parlons-nous des droits de l’homme et non des responsabilités des hommes ?',\n",
       "  'Qui protège les droits de l’homme ?',\n",
       "  'Comment puis-je défendre mes droits ?',\n",
       "  'Comment m’adresser à la Cour européenne des droits de l’homme ?',\n",
       "  'Auprès de qui puis-je revendiquer mes droits ?',\n",
       "  'Quelqu’un a-t-il le devoir de protéger mes droits ?',\n",
       "  'Les droits de l’homme ne posent-ils problème que dans les pays non démocratiques ?',\n",
       "  'Avons-nous diminué les cas de violation des droits de l’homme ?'],\n",
       " 14)"
      ]
     },
     "execution_count": 22,
     "metadata": {},
     "output_type": "execute_result"
    }
   ],
   "source": [
    "quest_d = re.findall('</strong>(.*?)</span></p>',html)# soup.findAll(\"span\", {\"style\" : \"font-weight\"})\n",
    "quest_d, len(quest_d)"
   ]
  },
  {
   "cell_type": "code",
   "execution_count": 23,
   "metadata": {},
   "outputs": [
    {
     "data": {
      "text/plain": [
       "[<p style=\"text-align: justify;\"><span class=\"highlight-inline thlil3\"><strong>Question:</strong> Les droits de l’homme, qu’est-ce que c’est ?</span></p>,\n",
       " <p style=\"text-align: justify;\">Les droits de l’homme sont des droits moraux que tout individu dans le monde possède simplement parce qu’il est un être humain. En revendiquant nos droits de l’homme, nous formulons une revendication morale, normalement de notre propre initiative, pour signifier “vous ne pouvez pas faire cela, c’est une violation de ma sphère morale et de ma dignité personnelle”. Personne - aucun individu, ni aucun gouvernement - ne peut vous priver de vos droits.</p>,\n",
       " <p style=\"text-align: justify;\"><span class=\"highlight-inline thlil3\"><strong>Question: </strong>D’où viennent ces droits ?</span></p>,\n",
       " <p style=\"text-align: justify;\">Ils viennent du fait que nous ne sommes pas seulement des êtres physiques, mais aussi moraux et spirituels. Les droits de l’homme ont pour objectif de protéger et de préserver l’humanité de tout individu, d’assurer que chaque individu vit une vie de dignité, digne d’un être humain.</p>,\n",
       " <p style=\"text-align: justify;\"><span class=\"highlight-inline thlil3\"><strong>Question: </strong>Pourquoi tout le monde “devrait-il” les respecter ?</span></p>,\n",
       " <p style=\"text-align: justify;\">Parce que, fondamentalement, tous les hommes sont des êtres humains et par conséquent des êtres moraux. La majorité des individus, s’ils constatent que la dignité d’une autre personne est violée, tenteront de s’y opposer. Généralement, les individus ne veulent pas blesser les autres. Cependant, en plus des sanctions morales dictées par notre propre conscience ou celle des autres, il existe aujourd’hui une législation qui, dans la plupart des pays du monde, oblige les gouvernements à respecter les droits fondamentaux de leurs citoyens, qu’ils le veuillent ou non.</p>,\n",
       " <p style=\"text-align: justify;\"><span class=\"highlight-inline thlil3\"><strong>Question: </strong> Qui possède des droits de l’homme ?</span></p>,\n",
       " <p style=\"text-align: justify;\">Absolument tout le monde. Les criminels, les chefs d’Etat, les enfants, les hommes, les femmes, les Africains, les Américains, les Européens, les réfugiés, les apatrides, les chômeurs, les travailleurs, les banquiers, les personnes accusées de terrorisme, les bénévoles, les enseignants, les danseurs, les astronautes, etc.</p>,\n",
       " <p style=\"text-align: justify;\"><span class=\"highlight-inline thlil3\"><strong>Question: </strong>Même les criminels et les chefs d’Etat ?</span></p>,\n",
       " <p style=\"text-align: justify;\">Absolument tout le monde. Les criminels et les chefs d’Etat de la même façon. Le pouvoir des droits réside dans le fait que nous sommes tous égaux devant ces droits. Certains peuvent avoir violé les droits d’autrui ou être une menace pour la société; leurs droits seront alors restreints de manière à protéger les autres, mais dans certaines limites. Ces limites sont définies sur la base de l’appréciation du minimum nécessaire à une vie de dignité.</p>,\n",
       " <p style=\"text-align: justify;\"><span class=\"highlight-inline thlil3\"><strong>Question: </strong>Pourquoi certains groupes ont-ils besoin de droits de l’homme spécifiques ?</span></p>,\n",
       " <p style=\"text-align: justify;\">Cela signifie-t-il qu’ils ont plus de droits que les autres? Non, certains groupes, comme les Roms en Europe ou les dalits et les castes en Inde, sont victimes de discrimination depuis si longtemps dans nos sociétés que des mesures spécifiques sont nécessaires pour leur permettre enfin de bénéficier des normes de droits de l’homme sur un pied d’égalité. Face à des années de discrimination et de stéréotypes systématiques, de haine manifeste et d’obstacles de tous ordres, il serait naïf de penser qu’affirmer qu’ils ont des droits égaux pourrait suffire à leur assurer l’égalité.</p>,\n",
       " <p style=\"text-align: justify;\"><span class=\"highlight-inline thlil3\"><strong>Question: </strong>Pourquoi parlons-nous des droits de l’homme et non des responsabilités des hommes ?</span></p>,\n",
       " <p style=\"text-align: justify;\">Si quelques penseurs et ONG ont fait valoir de solides arguments en faveur de l’idée de responsabilités de l’homme et même de codes ou de déclarations pour les expliciter, la communauté des droits de l’homme y a toujours été réticente. La raison en est que de nombreux gouvernements conditionnent « l’octroi » des droits de l’homme à certaines obligations imposées par l’Etat ou le dirigeant – ce qui prive de sens l’idée même de droits acquis à sa naissance par chaque être humain. Toutefois, il va sans dire que nous devons agir de façon responsable en tant qu’individus et groupes pour respecter les droits d’autrui, ne pas porter atteinte aux droits de l’homme et promouvoir les droits des autres comme les nôtres. De fait, l’article 29 de la DUDH établit que : « 1. L’individu a des devoirs envers la communauté dans laquelle seule le libre et plein développement de sa personnalité est possible. 2. Dans l’exercice de ses droits et dans la jouissance de ses libertés, chacun n’est soumis qu’aux limitations établies par la loi exclusivement en vue d’assurer la reconnaissance et le respect des droits et libertés d’autrui et afin de satisfaire aux justes exigences de la morale, de l’ordre public et du bien-être général dans une société démocratique. »</p>,\n",
       " <p style=\"text-align: justify;\"><span class=\"highlight-inline thlil3\"><strong>Question: </strong>Qui protège les droits de l’homme ?</span></p>,\n",
       " <p style=\"text-align: justify;\">Nous devrions tous le faire. Il existe, aux niveaux national et international, une législation qui impose des restrictions aux actions des gouvernements à l’égard de leurs citoyens. Mais, si personne ne désigne du doigt les actes de violation commis contre les normes internationales, les gouvernements peuvent continuer d’agir en toute impunité. En tant qu’individu, nous devons non seulement respecter les droits des autres dans notre vie quotidienne, mais aussi surveiller les agissements de nos gouvernements et concitoyens. Les systèmes de protection existent pour être utilisés par nous tous.</p>,\n",
       " <p style=\"text-align: justify;\"><span class=\"highlight-inline thlil3\"><strong>Question: </strong>Comment puis-je défendre mes droits ?</span></p>,\n",
       " <p style=\"text-align: justify;\">Essayez de dénoncer les violations commises à l’encontre de vos droits; revendiquez vos droits. Faites savoir aux autres que vous savez qu’ils n’ont pas le droit de vous traiter de la sorte. Repérez les articles pertinents dans la DUDH ou la CEDH, ou d’autres documents internationaux. S’il existe une législation dans votre pays, signalez-le. Parlez-en aux autres, à la presse; écrivez à vos élus et au chef d’Etat, informez les ONG engagées dans le combat en faveur des droits de l’homme. Demandez-leur conseil. Parlez à un juriste si vous le pouvez. Assurez-vous que votre gouvernement est au courant de l’action que vous entreprenez. Faites-lui savoir que vous n’êtes pas prêt de renoncer. Montrez-lui le soutien dont vous pouvez bénéficier. En dernier recours, si aucune de ces stratégies n’a fonctionné, vous pouvez vous adresser à la justice.</p>,\n",
       " <p style=\"text-align: justify;\"><span class=\"highlight-inline thlil3\"><strong>Question: </strong>Comment m’adresser à la Cour européenne des droits de l’homme ?</span></p>,\n",
       " <p style=\"text-align: justify;\">La Convention de sauvegarde des droits de l’homme et des libertés fondamentales contient une procédure de requête individuelle. Ceci dit, les conditions de recevabilité sont contraignantes. Par exemple, vous devez vous assurer que votre requête a déjà été examinée par les instances nationales de votre pays (jusqu’à la Cour suprême!) avant de pouvoir saisir la Cour européenne des droits de l’homme. Si vous êtes prêt à vous lancer, et si vous estimez satisfaire aux conditions de recevabilité, alors vous pouvez déposer une requête en utilisant le formulaire officiel (disponible au Secrétariat). Néanmoins, pour vous assurer une relative chance de succès, il vous est fortement conseillé de prendre conseil auprès d’un juriste ou d’une ONG compétente. Sachez que le processus peut être long et compliqué avant que ne soit rendu un jugement !</p>,\n",
       " <p style=\"text-align: justify;\"><span class=\"highlight-inline thlil3\"><strong>Question: </strong>Auprès de qui puis-je revendiquer mes droits ?</span></p>,\n",
       " <p style=\"text-align: justify;\">Pratiquement tous les droits prévus par les documents internationaux sont des revendications vis-à-vis de votre gouvernement ou de ses représentants. Les droits de l’homme protègent vos intérêts par rapport à l’Etat, aussi devez-vous les revendiquer auprès de l’Etat ou de ses représentants. Si vous estimez qu’il y a eu violation d’un de vos droits par, disons, votre employeur ou votre voisin, vous ne pouvez recourir directement à la législation internationale en matière de droits de l’homme, à moins que votre gouvernement n’ait pas fait le nécessaire pour empêcher votre employeur ou votre voisin d’agir ainsi.</p>,\n",
       " <p style=\"text-align: justify;\"><span class=\"highlight-inline thlil3\"><strong>Question: </strong>Quelqu’un a-t-il le devoir de protéger mes droits ?</span></p>,\n",
       " <p style=\"text-align: justify;\">Oui. Un droit ne signifie rien s’il n’a pas pour contrepartie la responsabilité ou l’obligation de quelqu’un. Tout individu a le devoir moral de ne pas violer votre dignité personnelle, mais votre gouvernement, en signant des pactes internationaux, a lui une obligation non seulement morale mais aussi juridique.</p>,\n",
       " <p style=\"text-align: justify;\"><span class=\"highlight-inline thlil3\"><strong>Question: </strong>Les droits de l’homme ne posent-ils problème que dans les pays non démocratiques ?</span></p>,\n",
       " <p style=\"text-align: justify;\">Aucun pays dans le monde, aujourd’hui encore, n’a des antécédents parfaitement irréprochables en matière de droits de l’homme. Dans certains pays, les violations sont plus fréquentes ou concernent une fraction plus large de la population. Quoi qu’il en soit, toute violation est un problème qui n’aurait pas dû se produire et qu’il faut régler. Un individu dont les droits sont violés dans l’une des démocraties les plus “établies” ne sera pas réconforté de savoir que son cas fait partie des exceptions !</p>,\n",
       " <p style=\"text-align: justify;\"><span class=\"highlight-inline thlil3\"><strong>Question: </strong>Avons-nous diminué les cas de violation des droits de l’homme ?</span></p>,\n",
       " <p style=\"text-align: justify;\">Nous avons fait de gros progrès - même s’ils nous paraissent n’être que des gouttes dans l’océan. Pensez à l’abolition de l’esclavage, au vote des femmes, aux pays qui ont aboli la peine de mort, à la libération des prisonniers d’opinion sous la pression internationale, à la chute du régime d’apartheid en Afrique du Sud, aux affaires jugées par la Cour européenne des droits de l’homme et aux législations qu’il a fallu modifier en conséquence. Pensez que le changement graduel de la culture internationale contraint même les régimes les plus autoritaires à tenir compte des droits de l’homme s’ils veulent ne pas être exclus de la scène internationale. Les résultats positifs sont nombreux, notamment ces cinquante dernières années. Mais beaucoup reste à faire.</p>]"
      ]
     },
     "execution_count": 23,
     "metadata": {},
     "output_type": "execute_result"
    }
   ],
   "source": [
    "rep_d = soup.findAll(\"p\", {\"style\" : \"text-align: justify;\"},)\n",
    "rep_d"
   ]
  },
  {
   "cell_type": "code",
   "execution_count": 24,
   "metadata": {},
   "outputs": [
    {
     "data": {
      "text/plain": [
       "[<p style=\"text-align: justify;\">Les droits de l’homme sont des droits moraux que tout individu dans le monde possède simplement parce qu’il est un être humain. En revendiquant nos droits de l’homme, nous formulons une revendication morale, normalement de notre propre initiative, pour signifier “vous ne pouvez pas faire cela, c’est une violation de ma sphère morale et de ma dignité personnelle”. Personne - aucun individu, ni aucun gouvernement - ne peut vous priver de vos droits.</p>,\n",
       " <p style=\"text-align: justify;\">Ils viennent du fait que nous ne sommes pas seulement des êtres physiques, mais aussi moraux et spirituels. Les droits de l’homme ont pour objectif de protéger et de préserver l’humanité de tout individu, d’assurer que chaque individu vit une vie de dignité, digne d’un être humain.</p>,\n",
       " <p style=\"text-align: justify;\">Parce que, fondamentalement, tous les hommes sont des êtres humains et par conséquent des êtres moraux. La majorité des individus, s’ils constatent que la dignité d’une autre personne est violée, tenteront de s’y opposer. Généralement, les individus ne veulent pas blesser les autres. Cependant, en plus des sanctions morales dictées par notre propre conscience ou celle des autres, il existe aujourd’hui une législation qui, dans la plupart des pays du monde, oblige les gouvernements à respecter les droits fondamentaux de leurs citoyens, qu’ils le veuillent ou non.</p>,\n",
       " <p style=\"text-align: justify;\">Absolument tout le monde. Les criminels, les chefs d’Etat, les enfants, les hommes, les femmes, les Africains, les Américains, les Européens, les réfugiés, les apatrides, les chômeurs, les travailleurs, les banquiers, les personnes accusées de terrorisme, les bénévoles, les enseignants, les danseurs, les astronautes, etc.</p>,\n",
       " <p style=\"text-align: justify;\">Absolument tout le monde. Les criminels et les chefs d’Etat de la même façon. Le pouvoir des droits réside dans le fait que nous sommes tous égaux devant ces droits. Certains peuvent avoir violé les droits d’autrui ou être une menace pour la société; leurs droits seront alors restreints de manière à protéger les autres, mais dans certaines limites. Ces limites sont définies sur la base de l’appréciation du minimum nécessaire à une vie de dignité.</p>,\n",
       " <p style=\"text-align: justify;\">Cela signifie-t-il qu’ils ont plus de droits que les autres? Non, certains groupes, comme les Roms en Europe ou les dalits et les castes en Inde, sont victimes de discrimination depuis si longtemps dans nos sociétés que des mesures spécifiques sont nécessaires pour leur permettre enfin de bénéficier des normes de droits de l’homme sur un pied d’égalité. Face à des années de discrimination et de stéréotypes systématiques, de haine manifeste et d’obstacles de tous ordres, il serait naïf de penser qu’affirmer qu’ils ont des droits égaux pourrait suffire à leur assurer l’égalité.</p>,\n",
       " <p style=\"text-align: justify;\">Si quelques penseurs et ONG ont fait valoir de solides arguments en faveur de l’idée de responsabilités de l’homme et même de codes ou de déclarations pour les expliciter, la communauté des droits de l’homme y a toujours été réticente. La raison en est que de nombreux gouvernements conditionnent « l’octroi » des droits de l’homme à certaines obligations imposées par l’Etat ou le dirigeant – ce qui prive de sens l’idée même de droits acquis à sa naissance par chaque être humain. Toutefois, il va sans dire que nous devons agir de façon responsable en tant qu’individus et groupes pour respecter les droits d’autrui, ne pas porter atteinte aux droits de l’homme et promouvoir les droits des autres comme les nôtres. De fait, l’article 29 de la DUDH établit que : « 1. L’individu a des devoirs envers la communauté dans laquelle seule le libre et plein développement de sa personnalité est possible. 2. Dans l’exercice de ses droits et dans la jouissance de ses libertés, chacun n’est soumis qu’aux limitations établies par la loi exclusivement en vue d’assurer la reconnaissance et le respect des droits et libertés d’autrui et afin de satisfaire aux justes exigences de la morale, de l’ordre public et du bien-être général dans une société démocratique. »</p>,\n",
       " <p style=\"text-align: justify;\">Nous devrions tous le faire. Il existe, aux niveaux national et international, une législation qui impose des restrictions aux actions des gouvernements à l’égard de leurs citoyens. Mais, si personne ne désigne du doigt les actes de violation commis contre les normes internationales, les gouvernements peuvent continuer d’agir en toute impunité. En tant qu’individu, nous devons non seulement respecter les droits des autres dans notre vie quotidienne, mais aussi surveiller les agissements de nos gouvernements et concitoyens. Les systèmes de protection existent pour être utilisés par nous tous.</p>,\n",
       " <p style=\"text-align: justify;\">Essayez de dénoncer les violations commises à l’encontre de vos droits; revendiquez vos droits. Faites savoir aux autres que vous savez qu’ils n’ont pas le droit de vous traiter de la sorte. Repérez les articles pertinents dans la DUDH ou la CEDH, ou d’autres documents internationaux. S’il existe une législation dans votre pays, signalez-le. Parlez-en aux autres, à la presse; écrivez à vos élus et au chef d’Etat, informez les ONG engagées dans le combat en faveur des droits de l’homme. Demandez-leur conseil. Parlez à un juriste si vous le pouvez. Assurez-vous que votre gouvernement est au courant de l’action que vous entreprenez. Faites-lui savoir que vous n’êtes pas prêt de renoncer. Montrez-lui le soutien dont vous pouvez bénéficier. En dernier recours, si aucune de ces stratégies n’a fonctionné, vous pouvez vous adresser à la justice.</p>,\n",
       " <p style=\"text-align: justify;\">La Convention de sauvegarde des droits de l’homme et des libertés fondamentales contient une procédure de requête individuelle. Ceci dit, les conditions de recevabilité sont contraignantes. Par exemple, vous devez vous assurer que votre requête a déjà été examinée par les instances nationales de votre pays (jusqu’à la Cour suprême!) avant de pouvoir saisir la Cour européenne des droits de l’homme. Si vous êtes prêt à vous lancer, et si vous estimez satisfaire aux conditions de recevabilité, alors vous pouvez déposer une requête en utilisant le formulaire officiel (disponible au Secrétariat). Néanmoins, pour vous assurer une relative chance de succès, il vous est fortement conseillé de prendre conseil auprès d’un juriste ou d’une ONG compétente. Sachez que le processus peut être long et compliqué avant que ne soit rendu un jugement !</p>,\n",
       " <p style=\"text-align: justify;\">Pratiquement tous les droits prévus par les documents internationaux sont des revendications vis-à-vis de votre gouvernement ou de ses représentants. Les droits de l’homme protègent vos intérêts par rapport à l’Etat, aussi devez-vous les revendiquer auprès de l’Etat ou de ses représentants. Si vous estimez qu’il y a eu violation d’un de vos droits par, disons, votre employeur ou votre voisin, vous ne pouvez recourir directement à la législation internationale en matière de droits de l’homme, à moins que votre gouvernement n’ait pas fait le nécessaire pour empêcher votre employeur ou votre voisin d’agir ainsi.</p>,\n",
       " <p style=\"text-align: justify;\">Oui. Un droit ne signifie rien s’il n’a pas pour contrepartie la responsabilité ou l’obligation de quelqu’un. Tout individu a le devoir moral de ne pas violer votre dignité personnelle, mais votre gouvernement, en signant des pactes internationaux, a lui une obligation non seulement morale mais aussi juridique.</p>,\n",
       " <p style=\"text-align: justify;\">Aucun pays dans le monde, aujourd’hui encore, n’a des antécédents parfaitement irréprochables en matière de droits de l’homme. Dans certains pays, les violations sont plus fréquentes ou concernent une fraction plus large de la population. Quoi qu’il en soit, toute violation est un problème qui n’aurait pas dû se produire et qu’il faut régler. Un individu dont les droits sont violés dans l’une des démocraties les plus “établies” ne sera pas réconforté de savoir que son cas fait partie des exceptions !</p>,\n",
       " <p style=\"text-align: justify;\">Nous avons fait de gros progrès - même s’ils nous paraissent n’être que des gouttes dans l’océan. Pensez à l’abolition de l’esclavage, au vote des femmes, aux pays qui ont aboli la peine de mort, à la libération des prisonniers d’opinion sous la pression internationale, à la chute du régime d’apartheid en Afrique du Sud, aux affaires jugées par la Cour européenne des droits de l’homme et aux législations qu’il a fallu modifier en conséquence. Pensez que le changement graduel de la culture internationale contraint même les régimes les plus autoritaires à tenir compte des droits de l’homme s’ils veulent ne pas être exclus de la scène internationale. Les résultats positifs sont nombreux, notamment ces cinquante dernières années. Mais beaucoup reste à faire.</p>]"
      ]
     },
     "execution_count": 24,
     "metadata": {},
     "output_type": "execute_result"
    }
   ],
   "source": [
    "rep_dr = [paragraphe for paragraphe in rep_d if not paragraphe.find(\"span\", class_=\"highlight-inline thlil3\")]\n",
    "rep_dr"
   ]
  },
  {
   "cell_type": "code",
   "execution_count": 25,
   "metadata": {},
   "outputs": [
    {
     "data": {
      "text/plain": [
       "14"
      ]
     },
     "execution_count": 25,
     "metadata": {},
     "output_type": "execute_result"
    }
   ],
   "source": [
    "len(rep_dr)"
   ]
  },
  {
   "cell_type": "code",
   "execution_count": 26,
   "metadata": {},
   "outputs": [
    {
     "data": {
      "text/plain": [
       "'Nous avons fait de gros progrès - même s’ils nous paraissent n’être que des gouttes dans l’océan. Pensez à l’abolition de l’esclavage, au vote des femmes, aux pays qui ont aboli la peine de mort, à la libération des prisonniers d’opinion sous la pression internationale, à la chute du régime d’apartheid en Afrique du Sud, aux affaires jugées par la Cour européenne des droits de l’homme et aux législations qu’il a fallu modifier en conséquence. Pensez que le changement graduel de la culture internationale contraint même les régimes les plus autoritaires à tenir compte des droits de l’homme s’ils veulent ne pas être exclus de la scène internationale. Les résultats positifs sont nombreux, notamment ces cinquante dernières années. Mais beaucoup reste à faire.'"
      ]
     },
     "execution_count": 26,
     "metadata": {},
     "output_type": "execute_result"
    }
   ],
   "source": [
    "textes = []\n",
    "\n",
    "# Itérer sur chaque objet paragraphe dans la liste\n",
    "for paragraphe in rep_dr:\n",
    "    # Extraire le texte du paragraphe et le stocker dans la liste\n",
    "    texte = paragraphe.text.strip()\n",
    "    textes.append(texte)\n",
    "texte"
   ]
  },
  {
   "cell_type": "code",
   "execution_count": 27,
   "metadata": {},
   "outputs": [
    {
     "data": {
      "text/plain": [
       "['Les droits de l’homme sont des droits moraux que tout individu dans le monde possède simplement parce qu’il est un être humain. En revendiquant nos droits de l’homme, nous formulons une revendication morale, normalement de notre propre initiative, pour signifier “vous ne pouvez pas faire cela, c’est une violation de ma sphère morale et de ma dignité personnelle”. Personne - aucun individu, ni aucun gouvernement - ne peut vous priver de vos droits.',\n",
       " 'Ils viennent du fait que nous ne sommes pas seulement des êtres physiques, mais aussi moraux et spirituels. Les droits de l’homme ont pour objectif de protéger et de préserver l’humanité de tout individu, d’assurer que chaque individu vit une vie de dignité, digne d’un être humain.',\n",
       " 'Parce que, fondamentalement, tous les hommes sont des êtres humains et par conséquent des êtres moraux. La majorité des individus, s’ils constatent que la dignité d’une autre personne est violée, tenteront de s’y opposer. Généralement, les individus ne veulent pas blesser les autres. Cependant, en plus des sanctions morales dictées par notre propre conscience ou celle des autres, il existe aujourd’hui une législation qui, dans la plupart des pays du monde, oblige les gouvernements à respecter les droits fondamentaux de leurs citoyens, qu’ils le veuillent ou non.',\n",
       " 'Absolument tout le monde. Les criminels, les chefs d’Etat, les enfants, les hommes, les femmes, les Africains, les Américains, les Européens, les réfugiés, les apatrides, les chômeurs, les travailleurs, les banquiers, les personnes accusées de terrorisme, les bénévoles, les enseignants, les danseurs, les astronautes, etc.',\n",
       " 'Absolument tout le monde. Les criminels et les chefs d’Etat de la même façon. Le pouvoir des droits réside dans le fait que nous sommes tous égaux devant ces droits. Certains peuvent avoir violé les droits d’autrui ou être une menace pour la société; leurs droits seront alors restreints de manière à protéger les autres, mais dans certaines limites. Ces limites sont définies sur la base de l’appréciation du minimum nécessaire à une vie de dignité.',\n",
       " 'Cela signifie-t-il qu’ils ont plus de droits que les autres? Non, certains groupes, comme les Roms en Europe ou les dalits et les castes en Inde, sont victimes de discrimination depuis si longtemps dans nos sociétés que des mesures spécifiques sont nécessaires pour leur permettre enfin de bénéficier des normes de droits de l’homme sur un pied d’égalité. Face à des années de discrimination et de stéréotypes systématiques, de haine manifeste et d’obstacles de tous ordres, il serait naïf de penser qu’affirmer qu’ils ont des droits égaux pourrait suffire à leur assurer l’égalité.',\n",
       " 'Si quelques penseurs et ONG ont fait valoir de solides arguments en faveur de l’idée de responsabilités de l’homme et même de codes ou de déclarations pour les expliciter, la communauté des droits de l’homme y a toujours été réticente. La raison en est que de nombreux gouvernements conditionnent « l’octroi » des droits de l’homme à certaines obligations imposées par l’Etat ou le dirigeant – ce qui prive de sens l’idée même de droits acquis à sa naissance par chaque être humain. Toutefois, il va sans dire que nous devons agir de façon responsable en tant qu’individus et groupes pour respecter les droits d’autrui, ne pas porter atteinte aux droits de l’homme et promouvoir les droits des autres comme les nôtres. De fait, l’article 29 de la DUDH établit que : « 1. L’individu a des devoirs envers la communauté dans laquelle seule le libre et plein développement de sa personnalité est possible. 2. Dans l’exercice de ses droits et dans la jouissance de ses libertés, chacun n’est soumis qu’aux limitations établies par la loi exclusivement en vue d’assurer la reconnaissance et le respect des droits et libertés d’autrui et afin de satisfaire aux justes exigences de la morale, de l’ordre public et du bien-être général dans une société démocratique. »',\n",
       " 'Nous devrions tous le faire. Il existe, aux niveaux national et international, une législation qui impose des restrictions aux actions des gouvernements à l’égard de leurs citoyens. Mais, si personne ne désigne du doigt les actes de violation commis contre les normes internationales, les gouvernements peuvent continuer d’agir en toute impunité. En tant qu’individu, nous devons non seulement respecter les droits des autres dans notre vie quotidienne, mais aussi surveiller les agissements de nos gouvernements et concitoyens. Les systèmes de protection existent pour être utilisés par nous tous.',\n",
       " 'Essayez de dénoncer les violations commises à l’encontre de vos droits; revendiquez vos droits. Faites savoir aux autres que vous savez qu’ils n’ont pas le droit de vous traiter de la sorte. Repérez les articles pertinents dans la DUDH ou la CEDH, ou d’autres documents internationaux. S’il existe une législation dans votre pays, signalez-le. Parlez-en aux autres, à la presse; écrivez à vos élus et au chef d’Etat, informez les ONG engagées dans le combat en faveur des droits de l’homme. Demandez-leur conseil. Parlez à un juriste si vous le pouvez. Assurez-vous que votre gouvernement est au courant de l’action que vous entreprenez. Faites-lui savoir que vous n’êtes pas prêt de renoncer. Montrez-lui le soutien dont vous pouvez bénéficier. En dernier recours, si aucune de ces stratégies n’a fonctionné, vous pouvez vous adresser à la justice.',\n",
       " 'La Convention de sauvegarde des droits de l’homme et des libertés fondamentales contient une procédure de requête individuelle. Ceci dit, les conditions de recevabilité sont contraignantes. Par exemple, vous devez vous assurer que votre requête a déjà été examinée par les instances nationales de votre pays (jusqu’à la Cour suprême!) avant de pouvoir saisir la Cour européenne des droits de l’homme. Si vous êtes prêt à vous lancer, et si vous estimez satisfaire aux conditions de recevabilité, alors vous pouvez déposer une requête en utilisant le formulaire officiel (disponible au Secrétariat). Néanmoins, pour vous assurer une relative chance de succès, il vous est fortement conseillé de prendre conseil auprès d’un juriste ou d’une ONG compétente. Sachez que le processus peut être long et compliqué avant que ne soit rendu un jugement !',\n",
       " 'Pratiquement tous les droits prévus par les documents internationaux sont des revendications vis-à-vis de votre gouvernement ou de ses représentants. Les droits de l’homme protègent vos intérêts par rapport à l’Etat, aussi devez-vous les revendiquer auprès de l’Etat ou de ses représentants. Si vous estimez qu’il y a eu violation d’un de vos droits par, disons, votre employeur ou votre voisin, vous ne pouvez recourir directement à la législation internationale en matière de droits de l’homme, à moins que votre gouvernement n’ait pas fait le nécessaire pour empêcher votre employeur ou votre voisin d’agir ainsi.',\n",
       " 'Oui. Un droit ne signifie rien s’il n’a pas pour contrepartie la responsabilité ou l’obligation de quelqu’un. Tout individu a le devoir moral de ne pas violer votre dignité personnelle, mais votre gouvernement, en signant des pactes internationaux, a lui une obligation non seulement morale mais aussi juridique.',\n",
       " 'Aucun pays dans le monde, aujourd’hui encore, n’a des antécédents parfaitement irréprochables en matière de droits de l’homme. Dans certains pays, les violations sont plus fréquentes ou concernent une fraction plus large de la population. Quoi qu’il en soit, toute violation est un problème qui n’aurait pas dû se produire et qu’il faut régler. Un individu dont les droits sont violés dans l’une des démocraties les plus “établies” ne sera pas réconforté de savoir que son cas fait partie des exceptions !',\n",
       " 'Nous avons fait de gros progrès - même s’ils nous paraissent n’être que des gouttes dans l’océan. Pensez à l’abolition de l’esclavage, au vote des femmes, aux pays qui ont aboli la peine de mort, à la libération des prisonniers d’opinion sous la pression internationale, à la chute du régime d’apartheid en Afrique du Sud, aux affaires jugées par la Cour européenne des droits de l’homme et aux législations qu’il a fallu modifier en conséquence. Pensez que le changement graduel de la culture internationale contraint même les régimes les plus autoritaires à tenir compte des droits de l’homme s’ils veulent ne pas être exclus de la scène internationale. Les résultats positifs sont nombreux, notamment ces cinquante dernières années. Mais beaucoup reste à faire.']"
      ]
     },
     "execution_count": 27,
     "metadata": {},
     "output_type": "execute_result"
    }
   ],
   "source": [
    "rep_droit = []\n",
    "\n",
    "# Itérer sur chaque objet paragraphe dans la liste\n",
    "for paragraphe in rep_dr:\n",
    "    # Extraire le texte du paragraphe et le stocker dans la liste\n",
    "    rep = paragraphe.text.strip()\n",
    "    rep_droit.append(rep)\n",
    "    #textes.append(texte)\n",
    "rep_droit"
   ]
  },
  {
   "cell_type": "code",
   "execution_count": 28,
   "metadata": {},
   "outputs": [
    {
     "data": {
      "text/plain": [
       "14"
      ]
     },
     "execution_count": 28,
     "metadata": {},
     "output_type": "execute_result"
    }
   ],
   "source": [
    "len(rep_droit)"
   ]
  },
  {
   "cell_type": "markdown",
   "metadata": {},
   "source": []
  },
  {
   "cell_type": "code",
   "execution_count": 29,
   "metadata": {},
   "outputs": [
    {
     "data": {
      "text/plain": [
       "(14,\n",
       " [' Les droits de l’homme, qu’est-ce que c’est ?',\n",
       "  'D’où viennent ces droits ?',\n",
       "  'Pourquoi tout le monde “devrait-il” les respecter ?',\n",
       "  '&nbsp;Qui possède des droits de l’homme ?',\n",
       "  'Même les criminels et les chefs d’Etat ?',\n",
       "  'Pourquoi certains groupes ont-ils besoin de droits de l’homme spécifiques ?',\n",
       "  'Pourquoi parlons-nous des droits de l’homme et non des responsabilités des hommes ?',\n",
       "  'Qui protège les droits de l’homme ?',\n",
       "  'Comment puis-je défendre mes droits ?',\n",
       "  'Comment m’adresser à la Cour européenne des droits de l’homme ?',\n",
       "  'Auprès de qui puis-je revendiquer mes droits ?',\n",
       "  'Quelqu’un a-t-il le devoir de protéger mes droits ?',\n",
       "  'Les droits de l’homme ne posent-ils problème que dans les pays non démocratiques ?',\n",
       "  'Avons-nous diminué les cas de violation des droits de l’homme ?'])"
      ]
     },
     "execution_count": 29,
     "metadata": {},
     "output_type": "execute_result"
    }
   ],
   "source": [
    "len(quest_d),quest_d"
   ]
  },
  {
   "cell_type": "code",
   "execution_count": 30,
   "metadata": {},
   "outputs": [
    {
     "data": {
      "text/plain": [
       "(14,\n",
       " ['Les droits de l’homme sont des droits moraux que tout individu dans le monde possède simplement parce qu’il est un être humain. En revendiquant nos droits de l’homme, nous formulons une revendication morale, normalement de notre propre initiative, pour signifier “vous ne pouvez pas faire cela, c’est une violation de ma sphère morale et de ma dignité personnelle”. Personne - aucun individu, ni aucun gouvernement - ne peut vous priver de vos droits.',\n",
       "  'Ils viennent du fait que nous ne sommes pas seulement des êtres physiques, mais aussi moraux et spirituels. Les droits de l’homme ont pour objectif de protéger et de préserver l’humanité de tout individu, d’assurer que chaque individu vit une vie de dignité, digne d’un être humain.',\n",
       "  'Parce que, fondamentalement, tous les hommes sont des êtres humains et par conséquent des êtres moraux. La majorité des individus, s’ils constatent que la dignité d’une autre personne est violée, tenteront de s’y opposer. Généralement, les individus ne veulent pas blesser les autres. Cependant, en plus des sanctions morales dictées par notre propre conscience ou celle des autres, il existe aujourd’hui une législation qui, dans la plupart des pays du monde, oblige les gouvernements à respecter les droits fondamentaux de leurs citoyens, qu’ils le veuillent ou non.',\n",
       "  'Absolument tout le monde. Les criminels, les chefs d’Etat, les enfants, les hommes, les femmes, les Africains, les Américains, les Européens, les réfugiés, les apatrides, les chômeurs, les travailleurs, les banquiers, les personnes accusées de terrorisme, les bénévoles, les enseignants, les danseurs, les astronautes, etc.',\n",
       "  'Absolument tout le monde. Les criminels et les chefs d’Etat de la même façon. Le pouvoir des droits réside dans le fait que nous sommes tous égaux devant ces droits. Certains peuvent avoir violé les droits d’autrui ou être une menace pour la société; leurs droits seront alors restreints de manière à protéger les autres, mais dans certaines limites. Ces limites sont définies sur la base de l’appréciation du minimum nécessaire à une vie de dignité.',\n",
       "  'Cela signifie-t-il qu’ils ont plus de droits que les autres? Non, certains groupes, comme les Roms en Europe ou les dalits et les castes en Inde, sont victimes de discrimination depuis si longtemps dans nos sociétés que des mesures spécifiques sont nécessaires pour leur permettre enfin de bénéficier des normes de droits de l’homme sur un pied d’égalité. Face à des années de discrimination et de stéréotypes systématiques, de haine manifeste et d’obstacles de tous ordres, il serait naïf de penser qu’affirmer qu’ils ont des droits égaux pourrait suffire à leur assurer l’égalité.',\n",
       "  'Si quelques penseurs et ONG ont fait valoir de solides arguments en faveur de l’idée de responsabilités de l’homme et même de codes ou de déclarations pour les expliciter, la communauté des droits de l’homme y a toujours été réticente. La raison en est que de nombreux gouvernements conditionnent « l’octroi » des droits de l’homme à certaines obligations imposées par l’Etat ou le dirigeant – ce qui prive de sens l’idée même de droits acquis à sa naissance par chaque être humain. Toutefois, il va sans dire que nous devons agir de façon responsable en tant qu’individus et groupes pour respecter les droits d’autrui, ne pas porter atteinte aux droits de l’homme et promouvoir les droits des autres comme les nôtres. De fait, l’article 29 de la DUDH établit que : « 1. L’individu a des devoirs envers la communauté dans laquelle seule le libre et plein développement de sa personnalité est possible. 2. Dans l’exercice de ses droits et dans la jouissance de ses libertés, chacun n’est soumis qu’aux limitations établies par la loi exclusivement en vue d’assurer la reconnaissance et le respect des droits et libertés d’autrui et afin de satisfaire aux justes exigences de la morale, de l’ordre public et du bien-être général dans une société démocratique. »',\n",
       "  'Nous devrions tous le faire. Il existe, aux niveaux national et international, une législation qui impose des restrictions aux actions des gouvernements à l’égard de leurs citoyens. Mais, si personne ne désigne du doigt les actes de violation commis contre les normes internationales, les gouvernements peuvent continuer d’agir en toute impunité. En tant qu’individu, nous devons non seulement respecter les droits des autres dans notre vie quotidienne, mais aussi surveiller les agissements de nos gouvernements et concitoyens. Les systèmes de protection existent pour être utilisés par nous tous.',\n",
       "  'Essayez de dénoncer les violations commises à l’encontre de vos droits; revendiquez vos droits. Faites savoir aux autres que vous savez qu’ils n’ont pas le droit de vous traiter de la sorte. Repérez les articles pertinents dans la DUDH ou la CEDH, ou d’autres documents internationaux. S’il existe une législation dans votre pays, signalez-le. Parlez-en aux autres, à la presse; écrivez à vos élus et au chef d’Etat, informez les ONG engagées dans le combat en faveur des droits de l’homme. Demandez-leur conseil. Parlez à un juriste si vous le pouvez. Assurez-vous que votre gouvernement est au courant de l’action que vous entreprenez. Faites-lui savoir que vous n’êtes pas prêt de renoncer. Montrez-lui le soutien dont vous pouvez bénéficier. En dernier recours, si aucune de ces stratégies n’a fonctionné, vous pouvez vous adresser à la justice.',\n",
       "  'La Convention de sauvegarde des droits de l’homme et des libertés fondamentales contient une procédure de requête individuelle. Ceci dit, les conditions de recevabilité sont contraignantes. Par exemple, vous devez vous assurer que votre requête a déjà été examinée par les instances nationales de votre pays (jusqu’à la Cour suprême!) avant de pouvoir saisir la Cour européenne des droits de l’homme. Si vous êtes prêt à vous lancer, et si vous estimez satisfaire aux conditions de recevabilité, alors vous pouvez déposer une requête en utilisant le formulaire officiel (disponible au Secrétariat). Néanmoins, pour vous assurer une relative chance de succès, il vous est fortement conseillé de prendre conseil auprès d’un juriste ou d’une ONG compétente. Sachez que le processus peut être long et compliqué avant que ne soit rendu un jugement !',\n",
       "  'Pratiquement tous les droits prévus par les documents internationaux sont des revendications vis-à-vis de votre gouvernement ou de ses représentants. Les droits de l’homme protègent vos intérêts par rapport à l’Etat, aussi devez-vous les revendiquer auprès de l’Etat ou de ses représentants. Si vous estimez qu’il y a eu violation d’un de vos droits par, disons, votre employeur ou votre voisin, vous ne pouvez recourir directement à la législation internationale en matière de droits de l’homme, à moins que votre gouvernement n’ait pas fait le nécessaire pour empêcher votre employeur ou votre voisin d’agir ainsi.',\n",
       "  'Oui. Un droit ne signifie rien s’il n’a pas pour contrepartie la responsabilité ou l’obligation de quelqu’un. Tout individu a le devoir moral de ne pas violer votre dignité personnelle, mais votre gouvernement, en signant des pactes internationaux, a lui une obligation non seulement morale mais aussi juridique.',\n",
       "  'Aucun pays dans le monde, aujourd’hui encore, n’a des antécédents parfaitement irréprochables en matière de droits de l’homme. Dans certains pays, les violations sont plus fréquentes ou concernent une fraction plus large de la population. Quoi qu’il en soit, toute violation est un problème qui n’aurait pas dû se produire et qu’il faut régler. Un individu dont les droits sont violés dans l’une des démocraties les plus “établies” ne sera pas réconforté de savoir que son cas fait partie des exceptions !',\n",
       "  'Nous avons fait de gros progrès - même s’ils nous paraissent n’être que des gouttes dans l’océan. Pensez à l’abolition de l’esclavage, au vote des femmes, aux pays qui ont aboli la peine de mort, à la libération des prisonniers d’opinion sous la pression internationale, à la chute du régime d’apartheid en Afrique du Sud, aux affaires jugées par la Cour européenne des droits de l’homme et aux législations qu’il a fallu modifier en conséquence. Pensez que le changement graduel de la culture internationale contraint même les régimes les plus autoritaires à tenir compte des droits de l’homme s’ils veulent ne pas être exclus de la scène internationale. Les résultats positifs sont nombreux, notamment ces cinquante dernières années. Mais beaucoup reste à faire.'])"
      ]
     },
     "execution_count": 30,
     "metadata": {},
     "output_type": "execute_result"
    }
   ],
   "source": [
    "len(rep_droit),rep_droit"
   ]
  },
  {
   "cell_type": "code",
   "execution_count": 31,
   "metadata": {},
   "outputs": [
    {
     "data": {
      "text/plain": [
       "(22,\n",
       " ['Comment obtenir la liste des assistantes maternelles ?',\n",
       "  'Comment effectuer une demande de place en crèche ?',\n",
       "  \"Quelles sont les dates des commissions d'attribution de place en crèche ?\",\n",
       "  \"Déclaration de naissance ou reconnaissance d'un enfant\\xa0: quelle différence ?\",\n",
       "  \"Un enfant qui déménage dans une nouvelle commune doit-il changer d'école ?\",\n",
       "  'Quand dois-je réserver la cantine/le goûter pour mon enfant ?',\n",
       "  'Comment me seront facturées les activités périscolaires de mes enfants ?',\n",
       "  \"Qu'est ce que le conseil municipal des enfants ?\",\n",
       "  'Comment faire partie du conseil municipal des enfants ?',\n",
       "  \"Qu'est que le Conseil des jeunes de Vincennes ?\",\n",
       "  'Comment faire partie du Conseil des jeunes de Vincennes ?',\n",
       "  'Où se tient le bureau du conseil des jeunes de Vincennes ?',\n",
       "  'Quels sont les établissements scolaires sur la ville de vincennes ?',\n",
       "  'Quand et comment dois je inscrire mes enfants au collège ?',\n",
       "  'Quand et comment dois je inscrire mes enfants au lycée ?',\n",
       "  \"Les Aides à projets jeunes, qu'est-ce que c'est ?\",\n",
       "  \"Où déposer une demande d'Aides à projets jeunes ?\",\n",
       "  'Je n’arrive plus à me connecter à mon espace personnel sur l’Espace Famille ? Comment faire ?',\n",
       "  'J’ai une question à propos de ma facture sur l’Espace Famille ?',\n",
       "  'Comment puis je régler ma facture ?',\n",
       "  'Où dois-je faire calculer mon QF?',\n",
       "  'Quand dois-je mettre à jour mon QF?'])"
      ]
     },
     "execution_count": 31,
     "metadata": {},
     "output_type": "execute_result"
    }
   ],
   "source": [
    "len(quest_jeunesse),quest_jeunesse"
   ]
  },
  {
   "cell_type": "code",
   "execution_count": 32,
   "metadata": {},
   "outputs": [
    {
     "data": {
      "text/plain": [
       "(22,\n",
       " [\"Vous pouvez obtenir la liste des assistantes maternelles au Relais Petite Enfance (RPE, 22 rue d'Estienne d'Orves). Vous pouvez également la demander par téléphone au 01 71 33 64 96 ourpe@vincennes.fr.\",\n",
       "  \"Vous pouvez formuler votre demande de place en crèche auprès de l'accueil unique de l'Hôtel de ville ou en ligne via la rubriqueVos démarches.\",\n",
       "  'Les commissions d’attribution des places en crèche à temps complet ont lieu le 1er mercredi de chaque mois (sauf mois d’août et lors des vacances scolaires) à 14h, généralement salle des Académiciens de Cœur de ville (98, rue de Fontenay). Vous trouverez le calendrier des prochaines commissionssur cette page.',\n",
       "  \"Ladéclaration de naissanceest obligatoire alors quela reconnaissance d'un enfantrelève d'une démarche volontaire du père.\",\n",
       "  \"L'enfant inscrit à l'école maternelle ou à l'école élémentaire avant son déménagement peut terminer sa scolarité dans la même école. Par exemple, si votre enfant a commencé son année scolaire en petite section de maternelle et que vous déménagez en cours d'année, il pourra rester dans le même établissement jusqu'à la fin de la grande section de maternelle. Il devra changer d'école pour sa rentrée en CP (début de la scolarité primaire). Si votre enfant a commencé son année scolaire en CP et que vous déménagez en cours d'année, il pourra rester dans le même établissement jusqu'à la fin de son CM2.\",\n",
       "  \"Pendant la période scolaire: les représentants légaux doivent réserver un repas pour leur enfant pour chaque journée en période scolaire par le biais del'Espace Famille. Les familles ont la possibilité de réserver sur la durée souhaitée : jour, semaine, mois, année. Toutefois, les réservations et modifications ou annulations doivent être effectuées au plus tard le jeudi à 23 h 59 pour la semaine suivante, pour les lundis, mardis, mercredis, jeudis, vendredis. Passé ce délai, les repas réservés, même non consommés, seront facturés.\",\n",
       "  \"Vous pouvez régler vos factures en ligne, vial'Espace Famille, ou opter pour le prélèvement automatique. Vous trouverez tous les renseignements sur la facturation des activités périscolaires dansle règlement des accueils de loisirs.\",\n",
       "  'Créé en 1999,le Conseil municipal des enfants(CME) donne la possibilité aux jeunes Vincennois (élèves de CM2 et 6e ) de s’exprimer sur la vie de leur ville. Il permet également un apprentissage actif de la démocratie, et à la municipalité d’écouter les propositions des enfants et de les consulter. Renseignements supplémentaires au 01 43 98 68 79 ou par mail àespacecitoyen@vincennes.fr.',\n",
       "  'Pour faire partie du CME, il faut être scolarisé(e) en CM2 ou en 6e à Vincennes et remplir une fiche de déclaration de candidature. Le jeune conseiller doit également faire campagne dans son école ou son collège, en définissant son programme et ses projets.Tous les renseignements se trouvent sur cette page.',\n",
       "  'LeConseil des jeunes de Vincennes(CJV) offre la possibilité aux jeunes de construire des projets et d’être sollicités par les élus afin d’émettre un avis consultatif sur les domaines les concernant. Il favorise une sensibilisation des jeunes aux questions de société afin qu’ils s’engagent de manière constructive dans la vie de la cité. Il leur permet de réaliser des projets en lien avec les dispositifs municipaux, départementaux et régionaux existants.',\n",
       "  \"Chaque année, une campagne de recrutement a lieu, habituellement au cours de l'été, pour rejoindre le nouveau Conseil des jeunes pour l'année scolaire qui s'ouvre :une journée d'intégration prévue à cet effet est fixée courant septembre. Mais vous pouvez bien sûr demander des renseignements au Carré au 01 71 33 64 40 ou par mail àlecarre@vincennes.frtout au long de l'année.\",\n",
       "  'Le Bureau du Conseil des jeunes de Vincennes se tient au Carré - Pôle citoyen, 1, rue de l’Égalité. Renseignements au 01 71 33 64 40 ou par mail àconseil-jeunes@vincennes.froulecarre@vincennes.fr.',\n",
       "  'Vous trouverez icila page concernant les collèges et lycées, et là,la page concernant les écoles primaires de Vincennes.',\n",
       "  \"L’admission dans un collège vincennois est réservée aux élèves dont le représentant légal est domicilié à Vincennes. Sauf cas particulier (déménagement...), l’affectation dans le collège de secteur est automatique, selon la zone d’habitation de l’élève et le cursus choisi (lien pour la séctorisation). Attention, l’affectation n’entraîne pas obligatoirement l’inscription effective, qui doit être confirmée par la famille auprès du collège.\\nDès le mois de mars (avant la décision de passage en 6e), le directeur de l’école élémentaire remet aux familles un dossier d’inscription au collège. Après avoir rempli ce dossier, vous devrez retourner à l’école dans les délais indiqués. Une fois la décision de passage prise, un avis d’affectation vous est adressé. Dès réception vous devrez confirmer l'inscription.\",\n",
       "  'L’affectation dans le lycée de secteur est automatique, selon la zone d’habitation de l’élève et le cursus choisi. Une dérogation peut néanmoins être demandée par l’élève au moment de sa demande d’orientation.',\n",
       "  'Les Aides à projets jeunes sont des aides financières accordées par la Ville à des projets portés par des jeunes (seuls ou en groupe) domiciliés à Vincennes et âgés de 17 à 25 ans. Après examen de la Commission municipale Petite Enfance - Enfance Jeunesse en mai et en novembre, les projets sont présentés au Conseil municipal pour l’attribution d’une aide financière permettant de mener à terme les actions proposées.',\n",
       "  \"La présentation du projet peut être déposée au Carré (1, rue de l'Égalité, 94300 Vincennes), tout au long de l'année.\",\n",
       "  'Vous avez la possibilité de faire mot de passe oublié. Un mail vous sera envoyé sur votre adresse mail. Si vous ne parvenez toujours pas à vous connecter vous pouvez sur le site de la villesuivre ce lien.',\n",
       "  'Vous pouvez poser votre questionvia ce formulaire.',\n",
       "  \"Vous pouvez régler votre facture par prélèvement automatique, en ligne surl'Espace Familleou directement à l'accueil unique de l'Hôtel de ville. Vous trouverez tous les renseignements sur la facturation des activités périscolaires dansle règlement des accueils de loisirs.\",\n",
       "  \"Vous pouvez faire calculer votre Quotient familial en vous rendant à l'accueil unique de l'Hôtel de ville ou en ligne via la rubriqueVos démarches.\",\n",
       "  \"Le Quotient familial doit être calculé avant le 31 décembre de l'année en cours, sinon le tarif maximum sera appliqué.\"])"
      ]
     },
     "execution_count": 32,
     "metadata": {},
     "output_type": "execute_result"
    }
   ],
   "source": [
    "len(rep_jeunesse),rep_jeunesse"
   ]
  },
  {
   "cell_type": "code",
   "execution_count": 33,
   "metadata": {},
   "outputs": [
    {
     "data": {
      "text/plain": [
       "(5,\n",
       " ['Comment signaler une personne âgée isolée ?',\n",
       "  'Comment se faire livrer des repas ?',\n",
       "  'Comment effectuer une demande de Pass navigo seniors ?',\n",
       "  'Comment effectuer une demande de logement social ?',\n",
       "  \"Comment effectuer une demande d'aide pour le maintien à domicile (personne agée) ?\"])"
      ]
     },
     "execution_count": 33,
     "metadata": {},
     "output_type": "execute_result"
    }
   ],
   "source": [
    "len(quest_santé),quest_santé"
   ]
  },
  {
   "cell_type": "code",
   "execution_count": 34,
   "metadata": {},
   "outputs": [
    {
     "data": {
      "text/plain": [
       "(5,\n",
       " [\"Les personnes âgées isolées peuvent être inscrites sur le registrePersonnes âgées isoléesauprès de l'Espace Régine-et-PIerre-Souweine.\",\n",
       "  'Des associations peuvent vous aider en dispensant des repas tout prêts, livrés ou non à domicile.',\n",
       "  'Les démarches pour obtenir un Pass navigo seniors sont expliquéessur ce lien.',\n",
       "  \"Il convient de déposer un dossier de demande de logement social en ligne sur le sitewww.demande-logement-social.gouv.fr. Cette demande de logement est valable un an et doit être renouvelée chaque année. Plus d'informations :cliquez ici\",\n",
       "  \"Depuis plusieurs années, Vincennes s'est donné pour objectif de permettre aux personnes âgées de rester autonomes le plus longtemps possible en leur offrant un éventail de solutions adaptées à leurs situations médicale et sociale. La ville a également signé une charte avec plusieurs associations vincennoises d'aide au maintien à domicile.\"])"
      ]
     },
     "execution_count": 34,
     "metadata": {},
     "output_type": "execute_result"
    }
   ],
   "source": [
    "len(rep_santé),rep_santé"
   ]
  },
  {
   "cell_type": "code",
   "execution_count": 35,
   "metadata": {},
   "outputs": [],
   "source": [
    "all_quest = quest_santé + quest_jeunesse + quest_d\n",
    "all_rep = rep_santé + rep_jeunesse + rep_droit"
   ]
  },
  {
   "cell_type": "code",
   "execution_count": 36,
   "metadata": {},
   "outputs": [],
   "source": [
    "data = {\n",
    "    'Question': all_quest,\n",
    "    'Réponse': all_rep\n",
    "}"
   ]
  },
  {
   "cell_type": "code",
   "execution_count": 37,
   "metadata": {},
   "outputs": [],
   "source": [
    "df = pd.DataFrame(data)"
   ]
  },
  {
   "cell_type": "code",
   "execution_count": 38,
   "metadata": {},
   "outputs": [
    {
     "data": {
      "text/html": [
       "<div>\n",
       "<style scoped>\n",
       "    .dataframe tbody tr th:only-of-type {\n",
       "        vertical-align: middle;\n",
       "    }\n",
       "\n",
       "    .dataframe tbody tr th {\n",
       "        vertical-align: top;\n",
       "    }\n",
       "\n",
       "    .dataframe thead th {\n",
       "        text-align: right;\n",
       "    }\n",
       "</style>\n",
       "<table border=\"1\" class=\"dataframe\">\n",
       "  <thead>\n",
       "    <tr style=\"text-align: right;\">\n",
       "      <th></th>\n",
       "      <th>Question</th>\n",
       "      <th>Réponse</th>\n",
       "    </tr>\n",
       "  </thead>\n",
       "  <tbody>\n",
       "    <tr>\n",
       "      <th>0</th>\n",
       "      <td>Comment signaler une personne âgée isolée ?</td>\n",
       "      <td>Les personnes âgées isolées peuvent être inscr...</td>\n",
       "    </tr>\n",
       "    <tr>\n",
       "      <th>1</th>\n",
       "      <td>Comment se faire livrer des repas ?</td>\n",
       "      <td>Des associations peuvent vous aider en dispens...</td>\n",
       "    </tr>\n",
       "    <tr>\n",
       "      <th>2</th>\n",
       "      <td>Comment effectuer une demande de Pass navigo s...</td>\n",
       "      <td>Les démarches pour obtenir un Pass navigo seni...</td>\n",
       "    </tr>\n",
       "    <tr>\n",
       "      <th>3</th>\n",
       "      <td>Comment effectuer une demande de logement soci...</td>\n",
       "      <td>Il convient de déposer un dossier de demande d...</td>\n",
       "    </tr>\n",
       "    <tr>\n",
       "      <th>4</th>\n",
       "      <td>Comment effectuer une demande d'aide pour le m...</td>\n",
       "      <td>Depuis plusieurs années, Vincennes s'est donné...</td>\n",
       "    </tr>\n",
       "    <tr>\n",
       "      <th>5</th>\n",
       "      <td>Comment obtenir la liste des assistantes mater...</td>\n",
       "      <td>Vous pouvez obtenir la liste des assistantes m...</td>\n",
       "    </tr>\n",
       "    <tr>\n",
       "      <th>6</th>\n",
       "      <td>Comment effectuer une demande de place en crèc...</td>\n",
       "      <td>Vous pouvez formuler votre demande de place en...</td>\n",
       "    </tr>\n",
       "    <tr>\n",
       "      <th>7</th>\n",
       "      <td>Quelles sont les dates des commissions d'attri...</td>\n",
       "      <td>Les commissions d’attribution des places en cr...</td>\n",
       "    </tr>\n",
       "    <tr>\n",
       "      <th>8</th>\n",
       "      <td>Déclaration de naissance ou reconnaissance d'u...</td>\n",
       "      <td>Ladéclaration de naissanceest obligatoire alor...</td>\n",
       "    </tr>\n",
       "    <tr>\n",
       "      <th>9</th>\n",
       "      <td>Un enfant qui déménage dans une nouvelle commu...</td>\n",
       "      <td>L'enfant inscrit à l'école maternelle ou à l'é...</td>\n",
       "    </tr>\n",
       "    <tr>\n",
       "      <th>10</th>\n",
       "      <td>Quand dois-je réserver la cantine/le goûter po...</td>\n",
       "      <td>Pendant la période scolaire: les représentants...</td>\n",
       "    </tr>\n",
       "    <tr>\n",
       "      <th>11</th>\n",
       "      <td>Comment me seront facturées les activités péri...</td>\n",
       "      <td>Vous pouvez régler vos factures en ligne, vial...</td>\n",
       "    </tr>\n",
       "    <tr>\n",
       "      <th>12</th>\n",
       "      <td>Qu'est ce que le conseil municipal des enfants ?</td>\n",
       "      <td>Créé en 1999,le Conseil municipal des enfants(...</td>\n",
       "    </tr>\n",
       "    <tr>\n",
       "      <th>13</th>\n",
       "      <td>Comment faire partie du conseil municipal des ...</td>\n",
       "      <td>Pour faire partie du CME, il faut être scolari...</td>\n",
       "    </tr>\n",
       "    <tr>\n",
       "      <th>14</th>\n",
       "      <td>Qu'est que le Conseil des jeunes de Vincennes ?</td>\n",
       "      <td>LeConseil des jeunes de Vincennes(CJV) offre l...</td>\n",
       "    </tr>\n",
       "    <tr>\n",
       "      <th>15</th>\n",
       "      <td>Comment faire partie du Conseil des jeunes de ...</td>\n",
       "      <td>Chaque année, une campagne de recrutement a li...</td>\n",
       "    </tr>\n",
       "    <tr>\n",
       "      <th>16</th>\n",
       "      <td>Où se tient le bureau du conseil des jeunes de...</td>\n",
       "      <td>Le Bureau du Conseil des jeunes de Vincennes s...</td>\n",
       "    </tr>\n",
       "    <tr>\n",
       "      <th>17</th>\n",
       "      <td>Quels sont les établissements scolaires sur la...</td>\n",
       "      <td>Vous trouverez icila page concernant les collè...</td>\n",
       "    </tr>\n",
       "    <tr>\n",
       "      <th>18</th>\n",
       "      <td>Quand et comment dois je inscrire mes enfants ...</td>\n",
       "      <td>L’admission dans un collège vincennois est rés...</td>\n",
       "    </tr>\n",
       "    <tr>\n",
       "      <th>19</th>\n",
       "      <td>Quand et comment dois je inscrire mes enfants ...</td>\n",
       "      <td>L’affectation dans le lycée de secteur est aut...</td>\n",
       "    </tr>\n",
       "    <tr>\n",
       "      <th>20</th>\n",
       "      <td>Les Aides à projets jeunes, qu'est-ce que c'est ?</td>\n",
       "      <td>Les Aides à projets jeunes sont des aides fina...</td>\n",
       "    </tr>\n",
       "    <tr>\n",
       "      <th>21</th>\n",
       "      <td>Où déposer une demande d'Aides à projets jeunes ?</td>\n",
       "      <td>La présentation du projet peut être déposée au...</td>\n",
       "    </tr>\n",
       "    <tr>\n",
       "      <th>22</th>\n",
       "      <td>Je n’arrive plus à me connecter à mon espace p...</td>\n",
       "      <td>Vous avez la possibilité de faire mot de passe...</td>\n",
       "    </tr>\n",
       "    <tr>\n",
       "      <th>23</th>\n",
       "      <td>J’ai une question à propos de ma facture sur l...</td>\n",
       "      <td>Vous pouvez poser votre questionvia ce formula...</td>\n",
       "    </tr>\n",
       "    <tr>\n",
       "      <th>24</th>\n",
       "      <td>Comment puis je régler ma facture ?</td>\n",
       "      <td>Vous pouvez régler votre facture par prélèveme...</td>\n",
       "    </tr>\n",
       "    <tr>\n",
       "      <th>25</th>\n",
       "      <td>Où dois-je faire calculer mon QF?</td>\n",
       "      <td>Vous pouvez faire calculer votre Quotient fami...</td>\n",
       "    </tr>\n",
       "    <tr>\n",
       "      <th>26</th>\n",
       "      <td>Quand dois-je mettre à jour mon QF?</td>\n",
       "      <td>Le Quotient familial doit être calculé avant l...</td>\n",
       "    </tr>\n",
       "    <tr>\n",
       "      <th>27</th>\n",
       "      <td>Les droits de l’homme, qu’est-ce que c’est ?</td>\n",
       "      <td>Les droits de l’homme sont des droits moraux q...</td>\n",
       "    </tr>\n",
       "    <tr>\n",
       "      <th>28</th>\n",
       "      <td>D’où viennent ces droits ?</td>\n",
       "      <td>Ils viennent du fait que nous ne sommes pas se...</td>\n",
       "    </tr>\n",
       "    <tr>\n",
       "      <th>29</th>\n",
       "      <td>Pourquoi tout le monde “devrait-il” les respec...</td>\n",
       "      <td>Parce que, fondamentalement, tous les hommes s...</td>\n",
       "    </tr>\n",
       "    <tr>\n",
       "      <th>30</th>\n",
       "      <td>&amp;nbsp;Qui possède des droits de l’homme ?</td>\n",
       "      <td>Absolument tout le monde. Les criminels, les c...</td>\n",
       "    </tr>\n",
       "    <tr>\n",
       "      <th>31</th>\n",
       "      <td>Même les criminels et les chefs d’Etat ?</td>\n",
       "      <td>Absolument tout le monde. Les criminels et les...</td>\n",
       "    </tr>\n",
       "    <tr>\n",
       "      <th>32</th>\n",
       "      <td>Pourquoi certains groupes ont-ils besoin de dr...</td>\n",
       "      <td>Cela signifie-t-il qu’ils ont plus de droits q...</td>\n",
       "    </tr>\n",
       "    <tr>\n",
       "      <th>33</th>\n",
       "      <td>Pourquoi parlons-nous des droits de l’homme et...</td>\n",
       "      <td>Si quelques penseurs et ONG ont fait valoir de...</td>\n",
       "    </tr>\n",
       "    <tr>\n",
       "      <th>34</th>\n",
       "      <td>Qui protège les droits de l’homme ?</td>\n",
       "      <td>Nous devrions tous le faire. Il existe, aux ni...</td>\n",
       "    </tr>\n",
       "    <tr>\n",
       "      <th>35</th>\n",
       "      <td>Comment puis-je défendre mes droits ?</td>\n",
       "      <td>Essayez de dénoncer les violations commises à ...</td>\n",
       "    </tr>\n",
       "    <tr>\n",
       "      <th>36</th>\n",
       "      <td>Comment m’adresser à la Cour européenne des dr...</td>\n",
       "      <td>La Convention de sauvegarde des droits de l’ho...</td>\n",
       "    </tr>\n",
       "    <tr>\n",
       "      <th>37</th>\n",
       "      <td>Auprès de qui puis-je revendiquer mes droits ?</td>\n",
       "      <td>Pratiquement tous les droits prévus par les do...</td>\n",
       "    </tr>\n",
       "    <tr>\n",
       "      <th>38</th>\n",
       "      <td>Quelqu’un a-t-il le devoir de protéger mes dro...</td>\n",
       "      <td>Oui. Un droit ne signifie rien s’il n’a pas po...</td>\n",
       "    </tr>\n",
       "    <tr>\n",
       "      <th>39</th>\n",
       "      <td>Les droits de l’homme ne posent-ils problème q...</td>\n",
       "      <td>Aucun pays dans le monde, aujourd’hui encore, ...</td>\n",
       "    </tr>\n",
       "    <tr>\n",
       "      <th>40</th>\n",
       "      <td>Avons-nous diminué les cas de violation des dr...</td>\n",
       "      <td>Nous avons fait de gros progrès - même s’ils n...</td>\n",
       "    </tr>\n",
       "  </tbody>\n",
       "</table>\n",
       "</div>"
      ],
      "text/plain": [
       "                                             Question  \\\n",
       "0         Comment signaler une personne âgée isolée ?   \n",
       "1                 Comment se faire livrer des repas ?   \n",
       "2   Comment effectuer une demande de Pass navigo s...   \n",
       "3   Comment effectuer une demande de logement soci...   \n",
       "4   Comment effectuer une demande d'aide pour le m...   \n",
       "5   Comment obtenir la liste des assistantes mater...   \n",
       "6   Comment effectuer une demande de place en crèc...   \n",
       "7   Quelles sont les dates des commissions d'attri...   \n",
       "8   Déclaration de naissance ou reconnaissance d'u...   \n",
       "9   Un enfant qui déménage dans une nouvelle commu...   \n",
       "10  Quand dois-je réserver la cantine/le goûter po...   \n",
       "11  Comment me seront facturées les activités péri...   \n",
       "12   Qu'est ce que le conseil municipal des enfants ?   \n",
       "13  Comment faire partie du conseil municipal des ...   \n",
       "14    Qu'est que le Conseil des jeunes de Vincennes ?   \n",
       "15  Comment faire partie du Conseil des jeunes de ...   \n",
       "16  Où se tient le bureau du conseil des jeunes de...   \n",
       "17  Quels sont les établissements scolaires sur la...   \n",
       "18  Quand et comment dois je inscrire mes enfants ...   \n",
       "19  Quand et comment dois je inscrire mes enfants ...   \n",
       "20  Les Aides à projets jeunes, qu'est-ce que c'est ?   \n",
       "21  Où déposer une demande d'Aides à projets jeunes ?   \n",
       "22  Je n’arrive plus à me connecter à mon espace p...   \n",
       "23  J’ai une question à propos de ma facture sur l...   \n",
       "24                Comment puis je régler ma facture ?   \n",
       "25                  Où dois-je faire calculer mon QF?   \n",
       "26                Quand dois-je mettre à jour mon QF?   \n",
       "27       Les droits de l’homme, qu’est-ce que c’est ?   \n",
       "28                         D’où viennent ces droits ?   \n",
       "29  Pourquoi tout le monde “devrait-il” les respec...   \n",
       "30          &nbsp;Qui possède des droits de l’homme ?   \n",
       "31           Même les criminels et les chefs d’Etat ?   \n",
       "32  Pourquoi certains groupes ont-ils besoin de dr...   \n",
       "33  Pourquoi parlons-nous des droits de l’homme et...   \n",
       "34                Qui protège les droits de l’homme ?   \n",
       "35              Comment puis-je défendre mes droits ?   \n",
       "36  Comment m’adresser à la Cour européenne des dr...   \n",
       "37     Auprès de qui puis-je revendiquer mes droits ?   \n",
       "38  Quelqu’un a-t-il le devoir de protéger mes dro...   \n",
       "39  Les droits de l’homme ne posent-ils problème q...   \n",
       "40  Avons-nous diminué les cas de violation des dr...   \n",
       "\n",
       "                                              Réponse  \n",
       "0   Les personnes âgées isolées peuvent être inscr...  \n",
       "1   Des associations peuvent vous aider en dispens...  \n",
       "2   Les démarches pour obtenir un Pass navigo seni...  \n",
       "3   Il convient de déposer un dossier de demande d...  \n",
       "4   Depuis plusieurs années, Vincennes s'est donné...  \n",
       "5   Vous pouvez obtenir la liste des assistantes m...  \n",
       "6   Vous pouvez formuler votre demande de place en...  \n",
       "7   Les commissions d’attribution des places en cr...  \n",
       "8   Ladéclaration de naissanceest obligatoire alor...  \n",
       "9   L'enfant inscrit à l'école maternelle ou à l'é...  \n",
       "10  Pendant la période scolaire: les représentants...  \n",
       "11  Vous pouvez régler vos factures en ligne, vial...  \n",
       "12  Créé en 1999,le Conseil municipal des enfants(...  \n",
       "13  Pour faire partie du CME, il faut être scolari...  \n",
       "14  LeConseil des jeunes de Vincennes(CJV) offre l...  \n",
       "15  Chaque année, une campagne de recrutement a li...  \n",
       "16  Le Bureau du Conseil des jeunes de Vincennes s...  \n",
       "17  Vous trouverez icila page concernant les collè...  \n",
       "18  L’admission dans un collège vincennois est rés...  \n",
       "19  L’affectation dans le lycée de secteur est aut...  \n",
       "20  Les Aides à projets jeunes sont des aides fina...  \n",
       "21  La présentation du projet peut être déposée au...  \n",
       "22  Vous avez la possibilité de faire mot de passe...  \n",
       "23  Vous pouvez poser votre questionvia ce formula...  \n",
       "24  Vous pouvez régler votre facture par prélèveme...  \n",
       "25  Vous pouvez faire calculer votre Quotient fami...  \n",
       "26  Le Quotient familial doit être calculé avant l...  \n",
       "27  Les droits de l’homme sont des droits moraux q...  \n",
       "28  Ils viennent du fait que nous ne sommes pas se...  \n",
       "29  Parce que, fondamentalement, tous les hommes s...  \n",
       "30  Absolument tout le monde. Les criminels, les c...  \n",
       "31  Absolument tout le monde. Les criminels et les...  \n",
       "32  Cela signifie-t-il qu’ils ont plus de droits q...  \n",
       "33  Si quelques penseurs et ONG ont fait valoir de...  \n",
       "34  Nous devrions tous le faire. Il existe, aux ni...  \n",
       "35  Essayez de dénoncer les violations commises à ...  \n",
       "36  La Convention de sauvegarde des droits de l’ho...  \n",
       "37  Pratiquement tous les droits prévus par les do...  \n",
       "38  Oui. Un droit ne signifie rien s’il n’a pas po...  \n",
       "39  Aucun pays dans le monde, aujourd’hui encore, ...  \n",
       "40  Nous avons fait de gros progrès - même s’ils n...  "
      ]
     },
     "execution_count": 38,
     "metadata": {},
     "output_type": "execute_result"
    }
   ],
   "source": [
    "df"
   ]
  },
  {
   "cell_type": "code",
   "execution_count": 41,
   "metadata": {},
   "outputs": [],
   "source": [
    "df.to_csv('faq_40z.csv', index=False, sep = ';', encoding='utf-8-sig')"
   ]
  },
  {
   "cell_type": "code",
   "execution_count": null,
   "metadata": {},
   "outputs": [],
   "source": []
  }
 ],
 "metadata": {
  "kernelspec": {
   "display_name": "Python 3",
   "language": "python",
   "name": "python3"
  },
  "language_info": {
   "codemirror_mode": {
    "name": "ipython",
    "version": 3
   },
   "file_extension": ".py",
   "mimetype": "text/x-python",
   "name": "python",
   "nbconvert_exporter": "python",
   "pygments_lexer": "ipython3",
   "version": "3.12.0"
  }
 },
 "nbformat": 4,
 "nbformat_minor": 2
}
